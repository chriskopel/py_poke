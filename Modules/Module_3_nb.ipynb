{
 "cells": [
  {
   "cell_type": "markdown",
   "metadata": {},
   "source": [
    "# Module 3: Functions"
   ]
  },
  {
   "cell_type": "markdown",
   "metadata": {},
   "source": [
    "## What is a function?"
   ]
  },
  {
   "cell_type": "code",
   "execution_count": null,
   "metadata": {},
   "outputs": [],
   "source": [
    "\"\"\"\n",
    "A function is something that we put something into it, and get something out of it in return.\n",
    "They allow us to use something in a repeatable fashion. \n",
    "So, instead of writing the same code over and over, we can create a function and \"call\" it whenever we need it.\n",
    "\n",
    "Some examples:\n",
    " - Using a Potion to heal your Pokémon.\n",
    " - Calculating damage from an attack.\n",
    " - Checking if a Pokémon can evolve.\n",
    "\"\"\""
   ]
  },
  {
   "cell_type": "markdown",
   "metadata": {},
   "source": [
    "### Greeting a Pokemon"
   ]
  },
  {
   "cell_type": "code",
   "execution_count": null,
   "metadata": {},
   "outputs": [],
   "source": [
    "def greet_pokemon(pokemon_name):\n",
    "    print(f\"Hello, {pokemon_name}! Are you ready for battle?\")"
   ]
  },
  {
   "cell_type": "code",
   "execution_count": null,
   "metadata": {},
   "outputs": [],
   "source": [
    "# Call the function with a Pokémon's name\n",
    "greet_pokemon(\"Pikachu\")\n",
    "greet_pokemon(\"Charmander\")\n",
    "greet_pokemon(\"Bulbasaur\")"
   ]
  },
  {
   "cell_type": "code",
   "execution_count": null,
   "metadata": {},
   "outputs": [],
   "source": [
    "# Using user input:\n",
    "pokemon_name = input(\"Enter a Pokémon's name: \")"
   ]
  },
  {
   "cell_type": "code",
   "execution_count": null,
   "metadata": {},
   "outputs": [],
   "source": [
    "greet_pokemon(pokemon_name)"
   ]
  },
  {
   "cell_type": "code",
   "execution_count": null,
   "metadata": {},
   "outputs": [],
   "source": [
    "# Your turn! Can you write a function to to print out your favorite pokemon's name? \n",
    "# The output could be something like \"My favorite Pokemon is: ____\" and you fill in the blank by calling your function\n"
   ]
  },
  {
   "cell_type": "markdown",
   "metadata": {},
   "source": [
    "### Healing a Pokemon"
   ]
  },
  {
   "cell_type": "code",
   "execution_count": null,
   "metadata": {},
   "outputs": [],
   "source": [
    "def heal_pokemon(pokemon_name, hp):\n",
    "    hp += 20  # A Potion restores 20 HP\n",
    "    print(f\"{pokemon_name} has been healed! New HP: {hp}\")\n",
    "    return hp"
   ]
  },
  {
   "cell_type": "code",
   "execution_count": null,
   "metadata": {},
   "outputs": [],
   "source": [
    "charmander_hp = 50"
   ]
  },
  {
   "cell_type": "code",
   "execution_count": null,
   "metadata": {},
   "outputs": [],
   "source": [
    "# Call the function\n",
    "charmander_hp = heal_pokemon(\"Charmander\", charmander_hp)"
   ]
  },
  {
   "cell_type": "markdown",
   "metadata": {},
   "source": [
    "### Checking If a Pokémon Can Evolve"
   ]
  },
  {
   "cell_type": "code",
   "execution_count": null,
   "metadata": {},
   "outputs": [],
   "source": [
    "def can_evolve(pokemon_name, level):\n",
    "    if level >= 16:\n",
    "        print(f\"{pokemon_name} can evolve!\")\n",
    "    else:\n",
    "        print(f\"{pokemon_name} needs more training to evolve.\")"
   ]
  },
  {
   "cell_type": "code",
   "execution_count": null,
   "metadata": {},
   "outputs": [],
   "source": [
    "# Call the function\n",
    "can_evolve(\"Charmander\", 15)\n",
    "can_evolve(\"Bulbasaur\", 16)"
   ]
  },
  {
   "cell_type": "markdown",
   "metadata": {},
   "source": [
    "### Calculating Damage in a Battle"
   ]
  },
  {
   "cell_type": "code",
   "execution_count": null,
   "metadata": {},
   "outputs": [],
   "source": [
    "def calculate_damage(attack_power, defense_power):\n",
    "    damage = attack_power - (defense_power / 2)\n",
    "    return max(damage, 0)  # Damage can't be less than 0"
   ]
  },
  {
   "cell_type": "code",
   "execution_count": null,
   "metadata": {},
   "outputs": [],
   "source": [
    "attack = 50\n",
    "defense = 30"
   ]
  },
  {
   "cell_type": "code",
   "execution_count": null,
   "metadata": {},
   "outputs": [],
   "source": [
    "# Call the function\n",
    "damage = calculate_damage(attack, defense)\n",
    "\n",
    "print(f\"The attack dealt {damage} damage!\")"
   ]
  },
  {
   "cell_type": "markdown",
   "metadata": {},
   "source": [
    "### Display Pokémon Info"
   ]
  },
  {
   "cell_type": "code",
   "execution_count": null,
   "metadata": {},
   "outputs": [],
   "source": [
    "def display_pokemon_info(name, type, level):\n",
    "    print(f\"Name: {name}\")\n",
    "    print(f\"Type: {type}\")\n",
    "    print(f\"Level: {level}\")"
   ]
  },
  {
   "cell_type": "code",
   "execution_count": null,
   "metadata": {},
   "outputs": [],
   "source": [
    "# Call the function\n",
    "display_pokemon_info(\"Pikachu\", \"Electric\", 25)"
   ]
  },
  {
   "cell_type": "markdown",
   "metadata": {},
   "source": [
    "### Determine Type Advantage"
   ]
  },
  {
   "cell_type": "code",
   "execution_count": null,
   "metadata": {},
   "outputs": [],
   "source": [
    "def type_advantage(your_type, opponent_type):\n",
    "    if your_type == \"Water\" and opponent_type == \"Fire\":\n",
    "        return \"Super effective!\"\n",
    "    elif your_type == \"Fire\" and opponent_type == \"Water\":\n",
    "        return \"Not very effective...\"\n",
    "    else:\n",
    "        return \"It's a normal hit.\""
   ]
  },
  {
   "cell_type": "code",
   "execution_count": null,
   "metadata": {},
   "outputs": [],
   "source": [
    "# Call the function\n",
    "result = type_advantage(\"Water\", \"Fire\")\n",
    "\n",
    "print(result)"
   ]
  },
  {
   "cell_type": "markdown",
   "metadata": {},
   "source": [
    "## Why Do We Use Functions?"
   ]
  },
  {
   "cell_type": "code",
   "execution_count": null,
   "metadata": {},
   "outputs": [],
   "source": [
    "\"\"\"\n",
    "Reusability: Write once, use many times.\n",
    "Organization: Makes code easier to read and manage.\n",
    "Abstraction: Hide details and focus on the big picture.\n",
    "\"\"\""
   ]
  },
  {
   "cell_type": "markdown",
   "metadata": {},
   "source": [
    "### Calculate Pokémon Speed"
   ]
  },
  {
   "cell_type": "code",
   "execution_count": null,
   "metadata": {},
   "outputs": [],
   "source": [
    "def calculate_speed(base_speed, level):\n",
    "    return base_speed + (level * 2)"
   ]
  },
  {
   "cell_type": "code",
   "execution_count": null,
   "metadata": {},
   "outputs": [],
   "source": [
    "# Test the function\n",
    "speed = calculate_speed(45, 10)\n",
    "print(f\"The Pokémon's speed is {speed}.\")"
   ]
  },
  {
   "cell_type": "markdown",
   "metadata": {},
   "source": [
    "### Check If a Pokémon Has Fainted"
   ]
  },
  {
   "cell_type": "code",
   "execution_count": null,
   "metadata": {},
   "outputs": [],
   "source": [
    "def has_fainted(hp):\n",
    "    if hp <= 0:\n",
    "        print(\"The Pokémon has fainted!\")\n",
    "        return True\n",
    "    else:\n",
    "        print(\"The Pokémon is still ready to battle!\")\n",
    "        return False"
   ]
  },
  {
   "cell_type": "code",
   "execution_count": null,
   "metadata": {},
   "outputs": [],
   "source": [
    "# Test the function\n",
    "has_fainted(0)"
   ]
  },
  {
   "cell_type": "code",
   "execution_count": null,
   "metadata": {},
   "outputs": [],
   "source": [
    "has_fainted(50)"
   ]
  },
  {
   "cell_type": "markdown",
   "metadata": {},
   "source": [
    "### Create a Function to Use a Move"
   ]
  },
  {
   "cell_type": "code",
   "execution_count": null,
   "metadata": {},
   "outputs": [],
   "source": [
    "def use_move(pokemon_name, move_name, damage):\n",
    "    print(f\"{pokemon_name} used {move_name}!\")\n",
    "    print(f\"It dealt {damage} damage!\")"
   ]
  },
  {
   "cell_type": "code",
   "execution_count": null,
   "metadata": {},
   "outputs": [],
   "source": [
    "# Test the function\n",
    "use_move(\"Pikachu\", \"Thunderbolt\", 90)"
   ]
  },
  {
   "cell_type": "markdown",
   "metadata": {},
   "source": [
    "### Pokémon Level Up"
   ]
  },
  {
   "cell_type": "code",
   "execution_count": null,
   "metadata": {},
   "outputs": [],
   "source": [
    "def level_up(pokemon_name, level, attack, defense):\n",
    "    level += 1\n",
    "    attack += 5\n",
    "    defense += 3\n",
    "    print(f\"{pokemon_name} leveled up to Level {level}!\")\n",
    "    print(f\"New stats - Attack: {attack}, Defense: {defense}\")\n",
    "    return level, attack, defense"
   ]
  },
  {
   "cell_type": "code",
   "execution_count": null,
   "metadata": {},
   "outputs": [],
   "source": [
    "# Test the function\n",
    "level, attack, defense = level_up(\"Charmander\", 10, 45, 40)"
   ]
  }
 ],
 "metadata": {
  "kernelspec": {
   "display_name": "Python 3",
   "language": "python",
   "name": "python3"
  },
  "language_info": {
   "codemirror_mode": {
    "name": "ipython",
    "version": 3
   },
   "file_extension": ".py",
   "mimetype": "text/x-python",
   "name": "python",
   "nbconvert_exporter": "python",
   "pygments_lexer": "ipython3",
   "version": "3.10.6"
  }
 },
 "nbformat": 4,
 "nbformat_minor": 2
}
