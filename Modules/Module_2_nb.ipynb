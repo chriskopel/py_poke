{
 "cells": [
  {
   "cell_type": "markdown",
   "metadata": {},
   "source": [
    "# Module 2: Loops and Conditionals"
   ]
  },
  {
   "cell_type": "markdown",
   "metadata": {},
   "source": [
    "## Loops"
   ]
  },
  {
   "cell_type": "code",
   "execution_count": null,
   "metadata": {},
   "outputs": [],
   "source": [
    "\"\"\"\n",
    "Loops allow the computer to go through each item in a list. \n",
    "When the loop goes from one item to the next, we call this an iteration.\n",
    "A loop can help you accomplish something when there's something you want to do per each item in a list\n",
    "\"\"\""
   ]
  },
  {
   "cell_type": "markdown",
   "metadata": {},
   "source": [
    "### View each pokemon on your team"
   ]
  },
  {
   "cell_type": "code",
   "execution_count": null,
   "metadata": {},
   "outputs": [],
   "source": [
    "# Your Pokémon team\n",
    "pokemon_team = [\"Pikachu\", \"Charizard\", \"Bulbasaur\", \"Squirtle\"]"
   ]
  },
  {
   "cell_type": "code",
   "execution_count": null,
   "metadata": {},
   "outputs": [],
   "source": [
    "# loop through each pokemon on your team\n",
    "for pokemon in pokemon_team:\n",
    "    print(pokemon)"
   ]
  },
  {
   "cell_type": "code",
   "execution_count": null,
   "metadata": {},
   "outputs": [],
   "source": [
    "# Print out your team with an f-string\n",
    "for pokemon in pokemon_team:\n",
    "    print(f\"{pokemon}, I choose you!\")"
   ]
  },
  {
   "cell_type": "code",
   "execution_count": null,
   "metadata": {},
   "outputs": [],
   "source": [
    "# Your turn! Can you make your own pokemon team in a list and then print out each of their names using a for loop?\n"
   ]
  },
  {
   "cell_type": "markdown",
   "metadata": {},
   "source": [
    "### Build a list of wild pokemon"
   ]
  },
  {
   "cell_type": "code",
   "execution_count": null,
   "metadata": {},
   "outputs": [],
   "source": [
    "import random\n",
    "\n",
    "wild_pokemon_options = [\"Pidgey\", \"Rattata\", \"Zubat\", \"Caterpie\"]\n",
    "wild_pokemon_encounters = []\n"
   ]
  },
  {
   "cell_type": "code",
   "execution_count": null,
   "metadata": {},
   "outputs": [],
   "source": [
    "for i in range(5):  # Simulate 5 encounters\n",
    "    wild_pokemon = random.choice(wild_pokemon_options)\n",
    "    wild_pokemon_encounters.append(wild_pokemon)\n",
    "\n",
    "print(\"Wild Pokémon encountered:\", wild_pokemon_encounters)"
   ]
  },
  {
   "cell_type": "code",
   "execution_count": null,
   "metadata": {},
   "outputs": [],
   "source": [
    "# Your turn! Can you build a list of 5 of your favorite pokemon, and then randomly select two of them?\n"
   ]
  },
  {
   "cell_type": "markdown",
   "metadata": {},
   "source": [
    "## Index-based loops"
   ]
  },
  {
   "cell_type": "code",
   "execution_count": null,
   "metadata": {},
   "outputs": [],
   "source": [
    "\"\"\"\n",
    "This type of loop relies on indices to access elements in a collection (like a list or array).\n",
    "In other words, if you want to modify something in a list, you need to access it by its index (i.e. its position in the list)\n",
    "\n",
    "Why You Need an Index to Modify List Elements\n",
    "In Python, if you want to modify the original elements of a list, you typically need to access those elements by their index. \n",
    "This is because a loop that directly iterates over the elements of a list (an iteration-based loop) \n",
    " only provides you with a copy of the value, not the actual reference to the element in the list.\n",
    "\"\"\""
   ]
  },
  {
   "cell_type": "markdown",
   "metadata": {},
   "source": [
    "###  Train your team"
   ]
  },
  {
   "cell_type": "code",
   "execution_count": null,
   "metadata": {},
   "outputs": [],
   "source": [
    "# Before training:\n",
    "pokemon_levels = [5, 10, 8, 15]  # Levels of Pikachu, Bulbasaur, Charmander, and Squirtle (for example)\n",
    "\n",
    "print(\"Before training, my pokemon are levels:\", pokemon_levels)"
   ]
  },
  {
   "cell_type": "code",
   "execution_count": null,
   "metadata": {},
   "outputs": [],
   "source": [
    "# Now train them:\n",
    "for i in range(len(pokemon_levels)):\n",
    "    pokemon_levels[i] += 1  # Gain 1 level each time"
   ]
  },
  {
   "cell_type": "code",
   "execution_count": null,
   "metadata": {},
   "outputs": [],
   "source": [
    "# And see what their levels are now:\n",
    "print(\"After training:\", pokemon_levels)"
   ]
  },
  {
   "cell_type": "markdown",
   "metadata": {},
   "source": [
    "### Why Do We Need range() and len() in the Loop?"
   ]
  },
  {
   "cell_type": "code",
   "execution_count": null,
   "metadata": {},
   "outputs": [],
   "source": [
    "\"\"\"\n",
    "Each Pokémon's level is stored at a specific position (or index) in the list:\n",
    "\n",
    "Pikachu's level is at index 0.\n",
    "Bulbasaur's level is at index 1.\n",
    "Charmander's level is at index 2.\n",
    "Squirtle's level is at index 3.\n",
    "\n",
    "\n",
    "Why Do We Need range()?\n",
    "The range() function gives us a sequence of numbers, which we use to access each index in the list.\n",
    "\n",
    "range(len(pokemon_levels)) generates the numbers 0, 1, 2, 3, because the list has 4 items (and their indices are from 0 to 3).\n",
    "These numbers are the positions of each Pokémon's level in the list.\n",
    "\n",
    "Why Do We Need len()?\n",
    "The len() function tells us how many Pokémon are in the list. \n",
    "\"\"\""
   ]
  },
  {
   "cell_type": "code",
   "execution_count": null,
   "metadata": {},
   "outputs": [],
   "source": [
    "len(pokemon_levels)"
   ]
  },
  {
   "cell_type": "code",
   "execution_count": null,
   "metadata": {},
   "outputs": [],
   "source": [
    "range(4)"
   ]
  },
  {
   "cell_type": "code",
   "execution_count": null,
   "metadata": {},
   "outputs": [],
   "source": [
    "range(len(pokemon_levels))"
   ]
  },
  {
   "cell_type": "code",
   "execution_count": null,
   "metadata": {},
   "outputs": [],
   "source": [
    "for i in range(len(pokemon_levels)):\n",
    "    print(i)"
   ]
  },
  {
   "cell_type": "markdown",
   "metadata": {},
   "source": [
    "#### How the Loop Works Together"
   ]
  },
  {
   "cell_type": "code",
   "execution_count": null,
   "metadata": {},
   "outputs": [],
   "source": [
    "\"\"\"\n",
    "First iteration: i = 0, so it increases pokemon_levels[0] (Pikachu) from 5 to 6.\n",
    "Second iteration: i = 1, so it increases pokemon_levels[1] (Bulbasaur) from 10 to 11.\n",
    "Third iteration: i = 2, so it increases pokemon_levels[2] (Charmander) from 8 to 9.\n",
    "Fourth iteration: i = 3, so it increases pokemon_levels[3] (Squirtle) from 15 to 16.\n",
    "\"\"\""
   ]
  },
  {
   "cell_type": "code",
   "execution_count": null,
   "metadata": {},
   "outputs": [],
   "source": [
    "for i in range(len(pokemon_levels)):  # Go through indices 0, 1, 2, and 3\n",
    "    pokemon_levels[i] += 1  # Add 1 to the level at each index"
   ]
  },
  {
   "cell_type": "markdown",
   "metadata": {},
   "source": [
    "#### What Happens Without range(len(...))?"
   ]
  },
  {
   "cell_type": "code",
   "execution_count": null,
   "metadata": {},
   "outputs": [],
   "source": [
    "# If you don't use range() and len(), you won't know which index to update! For example:\n",
    "# This won't work:\n",
    "for level in pokemon_levels:\n",
    "    level += 1  # This changes the variable 'level', but not the list\n",
    "\n",
    "\"\"\"\n",
    "Why? Because level is just a copy of the value from the list, not the actual item in the list.\n",
    "\n",
    "You need range() and len() to directly access and update the original list items.\n",
    "\"\"\""
   ]
  },
  {
   "cell_type": "markdown",
   "metadata": {},
   "source": [
    "#### An easier approach: Using enumerate() for Simplicity"
   ]
  },
  {
   "cell_type": "code",
   "execution_count": null,
   "metadata": {},
   "outputs": [],
   "source": [
    "for i, level in enumerate(pokemon_levels):\n",
    "    pokemon_levels[i] = level + 1  # Add 1 to each level\n",
    "    print(pokemon_levels[i])\n",
    "\n",
    "# This also gives you both the index (i) and the value (level), so you can update the list directly without needing range(len(...))."
   ]
  },
  {
   "cell_type": "markdown",
   "metadata": {},
   "source": [
    "### Heal all pokemon"
   ]
  },
  {
   "cell_type": "code",
   "execution_count": null,
   "metadata": {},
   "outputs": [],
   "source": [
    "pokemon_hp = [35, 50, 20, 80]\n",
    "\n",
    "print(\"Before healing:\", pokemon_hp)"
   ]
  },
  {
   "cell_type": "code",
   "execution_count": null,
   "metadata": {},
   "outputs": [],
   "source": [
    "for i in range(len(pokemon_hp)):\n",
    "    pokemon_hp[i] = 100  # Heal to full health\n",
    "\n",
    "print(\"After healing:\", pokemon_hp)"
   ]
  },
  {
   "cell_type": "markdown",
   "metadata": {},
   "source": [
    "### Pokemon battle"
   ]
  },
  {
   "cell_type": "code",
   "execution_count": null,
   "metadata": {},
   "outputs": [],
   "source": [
    "import random\n",
    "\n",
    "pokemon_team = [\"Pikachu\", \"Charmander\", \"Bulbasaur\", \"Squirtle\"]\n",
    "pokemon_hp = [35, 50, 45, 60]"
   ]
  },
  {
   "cell_type": "code",
   "execution_count": null,
   "metadata": {},
   "outputs": [],
   "source": [
    "# Simulate a battle\n",
    "for i in range(len(pokemon_team)):\n",
    "    damage = random.randint(5, 20)\n",
    "    pokemon_hp[i] -= damage\n",
    "    \n",
    "    print(f\"{pokemon_team[i]} took {damage} damage! Remaining HP: {pokemon_hp[i]}\")"
   ]
  },
  {
   "cell_type": "markdown",
   "metadata": {},
   "source": [
    "### We can also use a \"while\" loop to tell the computer to keep doing something until a condition is met"
   ]
  },
  {
   "cell_type": "code",
   "execution_count": null,
   "metadata": {},
   "outputs": [],
   "source": [
    "pokemon_team = []\n",
    "wild_pokemon_options = [\"Pidgey\", \"Rattata\", \"Zubat\", \"Caterpie\"]"
   ]
  },
  {
   "cell_type": "code",
   "execution_count": null,
   "metadata": {},
   "outputs": [],
   "source": [
    "# while the length of the team is less than 6, continue choosing a new pokemon and adding it to the team\n",
    "while len(pokemon_team) < 6: # while the length of the team is less than 6\n",
    "    new_pokemon = random.choice(wild_pokemon_options) # continue choosing a new pokemon\n",
    "    pokemon_team.append(new_pokemon) # and add it to the team\n",
    "\n",
    "    print(f\"You caught {new_pokemon}! Your team now has {len(pokemon_team)} Pokémon.\") # Print out what you caught\n",
    "\n",
    "print(\"Your team is full!\") # now that the while loop is over, print out that your team is full"
   ]
  },
  {
   "cell_type": "markdown",
   "metadata": {},
   "source": [
    "## Conditionals"
   ]
  },
  {
   "cell_type": "code",
   "execution_count": null,
   "metadata": {},
   "outputs": [],
   "source": [
    "\"\"\"\n",
    "A conditional, often an if-statement, checks for a specific condition. If the condition is met, some action can be taken. If not, another (or no) action can be taken.\n",
    "Why do we use them? They help us make decisions\n",
    "\n",
    "Conditionals are like decisions in the Pokémon world:\n",
    "\n",
    "When to use a Potion.\n",
    "Which move to use against an opponent.\n",
    "When to switch out a Pokémon in battle.\n",
    "\"\"\""
   ]
  },
  {
   "cell_type": "markdown",
   "metadata": {},
   "source": [
    "### Check if a pokemon has enough hp to battle"
   ]
  },
  {
   "cell_type": "code",
   "execution_count": null,
   "metadata": {},
   "outputs": [],
   "source": [
    "pokemon_hp = 20"
   ]
  },
  {
   "cell_type": "code",
   "execution_count": null,
   "metadata": {},
   "outputs": [],
   "source": [
    "if pokemon_hp > 0:\n",
    "    print(\"Your Pokémon is ready to battle!\")\n",
    "else:\n",
    "    print(\"Your Pokémon has fainted and needs to rest.\")"
   ]
  },
  {
   "cell_type": "code",
   "execution_count": null,
   "metadata": {},
   "outputs": [],
   "source": [
    "# Your turn! Can you create a variable of one of your favorite pokemon, and then write an if statement to check if its a water type pokemon?\n"
   ]
  },
  {
   "cell_type": "markdown",
   "metadata": {},
   "source": [
    "### Check how strong a pokemon is based on their level"
   ]
  },
  {
   "cell_type": "code",
   "execution_count": null,
   "metadata": {},
   "outputs": [],
   "source": [
    "pokemon_level = 25"
   ]
  },
  {
   "cell_type": "code",
   "execution_count": null,
   "metadata": {},
   "outputs": [],
   "source": [
    "if pokemon_level > 50:\n",
    "    print(\"This Pokémon is a powerhouse!\")\n",
    "elif pokemon_level > 20:\n",
    "    print(\"This Pokémon is strong.\")\n",
    "else:\n",
    "    print(\"This Pokémon needs more training.\")"
   ]
  },
  {
   "cell_type": "markdown",
   "metadata": {},
   "source": [
    "### Check if your pokemon has a type advantage"
   ]
  },
  {
   "cell_type": "code",
   "execution_count": null,
   "metadata": {},
   "outputs": [],
   "source": [
    "opponent_type = \"Water\"\n",
    "your_type = \"Electric\""
   ]
  },
  {
   "cell_type": "code",
   "execution_count": null,
   "metadata": {},
   "outputs": [],
   "source": [
    "if your_type == \"Electric\" and opponent_type == \"Water\":\n",
    "    print(\"It's super effective!\")\n",
    "elif your_type == \"Electric\" and opponent_type == \"Ground\":\n",
    "    print(\"It has no effect...\")\n",
    "else:\n",
    "    print(\"The attack hit normally.\")"
   ]
  },
  {
   "cell_type": "markdown",
   "metadata": {},
   "source": [
    "### Check if it's time to use a potion"
   ]
  },
  {
   "cell_type": "code",
   "execution_count": null,
   "metadata": {},
   "outputs": [],
   "source": [
    "pokemon_hp = 10"
   ]
  },
  {
   "cell_type": "code",
   "execution_count": null,
   "metadata": {},
   "outputs": [],
   "source": [
    "if pokemon_hp < 20:\n",
    "    print(\"Use a Super Potion!\")\n",
    "elif pokemon_hp < 50:\n",
    "    print(\"Use a Potion!\")\n",
    "else:\n",
    "    print(\"Your Pokémon's HP is fine.\")"
   ]
  },
  {
   "cell_type": "markdown",
   "metadata": {},
   "source": [
    "### Evaluate status effects"
   ]
  },
  {
   "cell_type": "code",
   "execution_count": null,
   "metadata": {},
   "outputs": [],
   "source": [
    "status_effect_list = [\"Paralyzed\",\"Burned\",\"Poisoned\"]"
   ]
  },
  {
   "cell_type": "code",
   "execution_count": null,
   "metadata": {},
   "outputs": [],
   "source": [
    "for status_effect in status_effect_list:\n",
    "    if status_effect == \"Burned\":\n",
    "        print(f\"Your Pokémon is {status_effect} and is losing HP each turn.\")\n",
    "    elif status_effect == \"Paralyzed\":\n",
    "        print(f\"Your Pokémon is {status_effect} and may not be able to move.\")\n",
    "    elif status_effect == \"Poisoned\":\n",
    "        print(f\"Your Pokémon is {status_effect} and is being damaged every turn.\")\n",
    "    else:\n",
    "        print(f\"Your Pokémon is in good condition!\")"
   ]
  },
  {
   "cell_type": "markdown",
   "metadata": {},
   "source": [
    "### Check if any pokemon are ready to evolve"
   ]
  },
  {
   "cell_type": "code",
   "execution_count": null,
   "metadata": {},
   "outputs": [],
   "source": [
    "pokemon_team = [\"Pikachu\", \"Charmander\", \"Bulbasaur\", \"Squirtle\"]\n",
    "pokemon_levels = [15, 16, 12, 18]"
   ]
  },
  {
   "cell_type": "code",
   "execution_count": null,
   "metadata": {},
   "outputs": [],
   "source": [
    "for i in range(len(pokemon_team)):\n",
    "    if pokemon_levels[i] >= 16:\n",
    "        print(f\"{pokemon_team[i]} is ready to evolve!\")\n",
    "    else:\n",
    "        print(f\"{pokemon_team[i]} needs more training.\")"
   ]
  },
  {
   "cell_type": "markdown",
   "metadata": {},
   "source": [
    "## Load a file and display an image"
   ]
  },
  {
   "cell_type": "code",
   "execution_count": null,
   "metadata": {},
   "outputs": [],
   "source": [
    "import matplotlib.pyplot as plt\n",
    "import matplotlib.image as mpimg\n",
    "\n",
    "# Load the image\n",
    "image_path = r\"C:\\Users\\Owner\\Documents\\Data Projects\\GitHub\\py_poke\\images\\charizard.png\"  # Replace with the path to your Charizard image\n",
    "charizard_image = mpimg.imread(image_path)"
   ]
  },
  {
   "cell_type": "code",
   "execution_count": null,
   "metadata": {},
   "outputs": [],
   "source": [
    "# Display the image\n",
    "plt.imshow(charizard_image)\n",
    "plt.axis('off')  # Turn off axis labels for a cleaner display\n",
    "plt.title(\"Charizard\")\n",
    "plt.show()"
   ]
  },
  {
   "cell_type": "code",
   "execution_count": null,
   "metadata": {},
   "outputs": [],
   "source": []
  }
 ],
 "metadata": {
  "kernelspec": {
   "display_name": "Python 3",
   "language": "python",
   "name": "python3"
  },
  "language_info": {
   "codemirror_mode": {
    "name": "ipython",
    "version": 3
   },
   "file_extension": ".py",
   "mimetype": "text/x-python",
   "name": "python",
   "nbconvert_exporter": "python",
   "pygments_lexer": "ipython3",
   "version": "3.10.6"
  }
 },
 "nbformat": 4,
 "nbformat_minor": 2
}
