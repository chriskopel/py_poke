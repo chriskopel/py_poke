{
 "cells": [
  {
   "cell_type": "markdown",
   "metadata": {},
   "source": [
    "# Module 1: Python Basics"
   ]
  },
  {
   "cell_type": "markdown",
   "metadata": {},
   "source": [
    "## Hello, World"
   ]
  },
  {
   "cell_type": "code",
   "execution_count": null,
   "metadata": {},
   "outputs": [
    {
     "name": "stdout",
     "output_type": "stream",
     "text": [
      "Hello, World!\n"
     ]
    }
   ],
   "source": [
    "# \"print\" is the common term in coding for displaying something to the console. \n",
    "# It's how you output text.\n",
    "# Press the shift+enter keys together or ctrl+enter to run a cell of code\n",
    "print(\"Hello, World!\")"
   ]
  },
  {
   "cell_type": "code",
   "execution_count": 19,
   "metadata": {},
   "outputs": [],
   "source": [
    "# This is a comment. This line doesn't run any code, it's just a note. "
   ]
  },
  {
   "cell_type": "code",
   "execution_count": null,
   "metadata": {},
   "outputs": [
    {
     "data": {
      "text/plain": [
       "'\\nComments can also be multi-line, using the syntax displayed here.\\nComments can also be used if you want to run only a part of code but not a specific line:\\nNote that running this cell block will not print anything, as the code is commented out\\n'"
      ]
     },
     "execution_count": 20,
     "metadata": {},
     "output_type": "execute_result"
    }
   ],
   "source": [
    "\"\"\"\n",
    "Comments can also be multi-line, using the syntax displayed here.\n",
    "Comments can also be used if you want to run only a part of code but not a specific line:\n",
    "Note that running this cell block will not print \"Hello World!\", as the code is commented out\n",
    "\"\"\"\n",
    "\n",
    "# print(\"Hello, World!\")"
   ]
  },
  {
   "cell_type": "code",
   "execution_count": null,
   "metadata": {},
   "outputs": [],
   "source": [
    "# Your turn! Try printing something by writing a print statement below this comment\n"
   ]
  },
  {
   "cell_type": "code",
   "execution_count": null,
   "metadata": {},
   "outputs": [],
   "source": [
    "\"\"\"\n",
    "We're using what's called a jupyter notebook, also just known as a notebook. \n",
    "Instead of running an entire script of code at once, a notebook allows us to run chunks of code at a time and immediately see the output.\n",
    "\n",
    "-To add a new cell, click to the left of the cell you're targeting and click the \"B\" key on your keyboard.\n",
    "-To make a cell a markdown cell, click to the left of the cell you're targeting and click the \"M\" key on your keyboard.\n",
    "-To delete a cell, click to the left of the cell you're targeting and press the \"D\" key twice on your keyboard.\n",
    "\"\"\""
   ]
  },
  {
   "cell_type": "markdown",
   "metadata": {},
   "source": [
    "## Math"
   ]
  },
  {
   "cell_type": "markdown",
   "metadata": {},
   "source": [
    "### Python is really good at math. It's a calculator at heart\n",
    "### Any math equation or problem you can think of can be solved using python. Let's start with the basics"
   ]
  },
  {
   "cell_type": "code",
   "execution_count": null,
   "metadata": {},
   "outputs": [
    {
     "data": {
      "text/plain": [
       "8"
      ]
     },
     "execution_count": 6,
     "metadata": {},
     "output_type": "execute_result"
    }
   ],
   "source": [
    "# Addition\n",
    "5+3"
   ]
  },
  {
   "cell_type": "code",
   "execution_count": null,
   "metadata": {},
   "outputs": [
    {
     "data": {
      "text/plain": [
       "3"
      ]
     },
     "execution_count": 7,
     "metadata": {},
     "output_type": "execute_result"
    }
   ],
   "source": [
    "# Subtraction\n",
    "10-7"
   ]
  },
  {
   "cell_type": "code",
   "execution_count": null,
   "metadata": {},
   "outputs": [
    {
     "data": {
      "text/plain": [
       "8"
      ]
     },
     "execution_count": 8,
     "metadata": {},
     "output_type": "execute_result"
    }
   ],
   "source": [
    "# Multiplication\n",
    "4*2"
   ]
  },
  {
   "cell_type": "code",
   "execution_count": null,
   "metadata": {},
   "outputs": [
    {
     "data": {
      "text/plain": [
       "4.0"
      ]
     },
     "execution_count": 9,
     "metadata": {},
     "output_type": "execute_result"
    }
   ],
   "source": [
    "# Division\n",
    "8/2"
   ]
  },
  {
   "cell_type": "code",
   "execution_count": 12,
   "metadata": {},
   "outputs": [
    {
     "name": "stdout",
     "output_type": "stream",
     "text": [
      "13\n",
      "25\n"
     ]
    }
   ],
   "source": [
    "# Order of Operations: PEMDAS (Parentheses, Exponents, Multiplication/Division, Addition/Subtraction)\n",
    "print(3 + 2 * 5)      # 13 (multiplication before addition)\n",
    "print((3 + 2) * 5)    # 25 (parentheses first)"
   ]
  },
  {
   "cell_type": "code",
   "execution_count": null,
   "metadata": {},
   "outputs": [],
   "source": [
    "# Your turn! Try using python by writing some math problems for it to solve\n"
   ]
  },
  {
   "cell_type": "markdown",
   "metadata": {},
   "source": [
    "### We can import libraries that help us do even more"
   ]
  },
  {
   "cell_type": "code",
   "execution_count": 13,
   "metadata": {},
   "outputs": [],
   "source": [
    "import math"
   ]
  },
  {
   "cell_type": "code",
   "execution_count": 14,
   "metadata": {},
   "outputs": [
    {
     "data": {
      "text/plain": [
       "4.0"
      ]
     },
     "execution_count": 14,
     "metadata": {},
     "output_type": "execute_result"
    }
   ],
   "source": [
    "math.sqrt(16)"
   ]
  },
  {
   "cell_type": "code",
   "execution_count": 15,
   "metadata": {},
   "outputs": [
    {
     "name": "stdout",
     "output_type": "stream",
     "text": [
      "3.14\n",
      "3\n",
      "4\n"
     ]
    }
   ],
   "source": [
    "# We can also round numbers if we'd like\n",
    "print(round(3.14159, 2))  # 3.14\n",
    "print(math.floor(3.9))    # 3\n",
    "print(math.ceil(3.1))     # 4"
   ]
  },
  {
   "cell_type": "code",
   "execution_count": 16,
   "metadata": {},
   "outputs": [],
   "source": [
    "# And we can have python return a random number\n",
    "import random"
   ]
  },
  {
   "cell_type": "code",
   "execution_count": 17,
   "metadata": {},
   "outputs": [
    {
     "name": "stdout",
     "output_type": "stream",
     "text": [
      "7\n"
     ]
    }
   ],
   "source": [
    "print(random.randint(1, 10))  # Random integer between 1 and 10"
   ]
  },
  {
   "cell_type": "markdown",
   "metadata": {},
   "source": [
    "## Variables"
   ]
  },
  {
   "cell_type": "markdown",
   "metadata": {},
   "source": [
    "### What are variables?"
   ]
  },
  {
   "cell_type": "code",
   "execution_count": null,
   "metadata": {},
   "outputs": [],
   "source": [
    "\"\"\"\n",
    "A variable holds information. They let us save data so we can use it later. \n",
    "You can think of them as labels for your data.\n",
    "\"\"\""
   ]
  },
  {
   "cell_type": "markdown",
   "metadata": {},
   "source": [
    "### Storing information"
   ]
  },
  {
   "cell_type": "code",
   "execution_count": 21,
   "metadata": {},
   "outputs": [
    {
     "name": "stdout",
     "output_type": "stream",
     "text": [
      "My Pokémon is Pikachu.\n",
      "Pikachu is level 5.\n"
     ]
    }
   ],
   "source": [
    "# Here's an example without variables:\n",
    "print(\"My Pokémon is Pikachu.\")\n",
    "print(\"Pikachu is level 5.\")"
   ]
  },
  {
   "cell_type": "code",
   "execution_count": null,
   "metadata": {},
   "outputs": [
    {
     "name": "stdout",
     "output_type": "stream",
     "text": [
      "My name is Michael and my Pokémon is Pikachu and it's at level 5.\n"
     ]
    }
   ],
   "source": [
    "# Example with variables. Now, you only update pokemon_name and pokemon_level to reflect changes!\n",
    "pokemon_name = \"Pikachu\"\n",
    "pokemon_level = 5\n",
    "trainer_name = \"Michael\"\n",
    "\n",
    "# The below statement is an \"f-string\". Notice that before the quote, the letter f is typed out. This allows variables to easily be incorporated to a string.\n",
    "# The next section will teach you more about strings and what they are.\n",
    "print(f\"My name is {trainer_name} and my Pokémon is {pokemon_name} and it's at level {pokemon_level}.\")"
   ]
  },
  {
   "cell_type": "markdown",
   "metadata": {},
   "source": [
    "### Variables can be updated"
   ]
  },
  {
   "cell_type": "code",
   "execution_count": null,
   "metadata": {},
   "outputs": [
    {
     "name": "stdout",
     "output_type": "stream",
     "text": [
      "Pikachu leveled up! It's now level 6.\n"
     ]
    }
   ],
   "source": [
    "# Level up your Pokémon\n",
    "pokemon_level = pokemon_level + 1  # Add 1 to the current level\n",
    "\n",
    "print(f\"{pokemon_name} leveled up! It's now level {pokemon_level}.\")"
   ]
  },
  {
   "cell_type": "markdown",
   "metadata": {},
   "source": [
    "### Variables can help us with math"
   ]
  },
  {
   "cell_type": "code",
   "execution_count": 47,
   "metadata": {},
   "outputs": [
    {
     "name": "stdout",
     "output_type": "stream",
     "text": [
      "Charmander needs 80 XP to reach the next level!\n"
     ]
    }
   ],
   "source": [
    "# XP needed to level up\n",
    "current_xp = 120\n",
    "xp_to_next_level = 200 - current_xp\n",
    "\n",
    "print(f\"{pokemon_name} needs {xp_to_next_level} XP to reach the next level!\")"
   ]
  },
  {
   "cell_type": "code",
   "execution_count": null,
   "metadata": {},
   "outputs": [],
   "source": [
    "# Your turn! Can you create 3 new variables (called pokemon_1, pokemon_2, and pokemon_3) and declare your three favorite pokemon as these variables?\n",
    "# Then, print out the following statement: \n",
    "# \"My three favorite pokemon are: pokemon_1, pokemon_2, and pokemon_3\". Be sure to use the variables you declared!\n"
   ]
  },
  {
   "cell_type": "markdown",
   "metadata": {},
   "source": [
    "## Data Types"
   ]
  },
  {
   "cell_type": "code",
   "execution_count": null,
   "metadata": {},
   "outputs": [],
   "source": [
    "\"\"\"\n",
    "What Are Data Types?\n",
    "In Python, every piece of information has a type. It tells the computer what kind of information it's dealing with, like:\n",
    "\n",
    "-Numbers\n",
    "-Words\n",
    "-True/False answers\n",
    "-Lists of things\n",
    "\n",
    "Think of data types as the Pokémon types (like Fire, Water, Grass). Each type has special abilities.\n",
    "\"\"\""
   ]
  },
  {
   "cell_type": "markdown",
   "metadata": {},
   "source": [
    "### Common Data Types in Python"
   ]
  },
  {
   "cell_type": "markdown",
   "metadata": {},
   "source": [
    "### 1. Numbers (Integers and Floats)"
   ]
  },
  {
   "cell_type": "code",
   "execution_count": null,
   "metadata": {},
   "outputs": [],
   "source": [
    "\"\"\"\n",
    "Numbers are for things like levels, HP, or damage:\n",
    "\n",
    "Integer (int): Whole numbers (e.g., 5, 100)\n",
    "Float: Numbers with decimals (e.g., 12.5, 0.75)\n",
    "\"\"\""
   ]
  },
  {
   "cell_type": "code",
   "execution_count": 48,
   "metadata": {},
   "outputs": [
    {
     "name": "stdout",
     "output_type": "stream",
     "text": [
      "Pokemon level: 15. Trainer Badges: 7. Pokemon Height: 0.8. Catch Rate: 33.3\n"
     ]
    }
   ],
   "source": [
    "# Integers\n",
    "pokemon_level = 15\n",
    "trainer_badges = 7\n",
    "\n",
    "# Floats\n",
    "pokemon_height = 0.8  # meters\n",
    "catch_rate = 33.3     # percentage\n",
    "\n",
    "print(f\"Pokemon level: {pokemon_level}. Trainer Badges: {trainer_badges}. Pokemon Height: {pokemon_height}. Catch Rate: {catch_rate}\")"
   ]
  },
  {
   "cell_type": "markdown",
   "metadata": {},
   "source": [
    "### 2. Strings"
   ]
  },
  {
   "cell_type": "code",
   "execution_count": null,
   "metadata": {},
   "outputs": [],
   "source": [
    "# Strings are for words or text, like Pokémon names or move descriptions."
   ]
  },
  {
   "cell_type": "code",
   "execution_count": 37,
   "metadata": {},
   "outputs": [
    {
     "name": "stdout",
     "output_type": "stream",
     "text": [
      "Bulbasaur used Vine Whip!\n"
     ]
    }
   ],
   "source": [
    "pokemon_name = \"Bulbasaur\"\n",
    "move = \"Vine Whip\"\n",
    "\n",
    "print(f\"{pokemon_name} used {move}!\")"
   ]
  },
  {
   "cell_type": "markdown",
   "metadata": {},
   "source": [
    "### 3. Booleans"
   ]
  },
  {
   "cell_type": "code",
   "execution_count": null,
   "metadata": {},
   "outputs": [],
   "source": [
    "'''\n",
    "Booleans help computers make decisions. They're like asking the computer a question and getting a \"yes\" or \"no\" answer.\n",
    "For example:\n",
    "\n",
    "Is your Pokémon level 10?\n",
    "Did you win the battle?\n",
    "'''"
   ]
  },
  {
   "cell_type": "code",
   "execution_count": 39,
   "metadata": {},
   "outputs": [
    {
     "name": "stdout",
     "output_type": "stream",
     "text": [
      "Can evolve: True, All badges: False\n"
     ]
    }
   ],
   "source": [
    "can_evolve = True\n",
    "has_all_badges = False\n",
    "\n",
    "print(f\"Can evolve: {can_evolve}, All badges: {has_all_badges}\")"
   ]
  },
  {
   "cell_type": "code",
   "execution_count": null,
   "metadata": {},
   "outputs": [
    {
     "name": "stdout",
     "output_type": "stream",
     "text": [
      "False\n",
      "True\n"
     ]
    }
   ],
   "source": [
    "# Compare numbers\n",
    "is_pokemon_level = 10\n",
    "print(pokemon_level > is_pokemon_level)   # False (because 10 is not less than 5)\n",
    "print(pokemon_level < is_pokemon_level)   # True (because 10 is greater than 5)"
   ]
  },
  {
   "cell_type": "code",
   "execution_count": null,
   "metadata": {},
   "outputs": [
    {
     "name": "stdout",
     "output_type": "stream",
     "text": [
      "False\n",
      "False\n",
      "True\n"
     ]
    }
   ],
   "source": [
    "# Compare strings\n",
    "print(pokemon_name == \"Charmander\")  # False (not a match)\n",
    "print(pokemon_name == \"Bulbasaur\")   # False (not a match)\n",
    "print(pokemon_name == \"Pikachu\") # True (it's a match)"
   ]
  },
  {
   "cell_type": "code",
   "execution_count": null,
   "metadata": {},
   "outputs": [],
   "source": [
    "# Your turn! Can you create the following variables (you can name them whatever you want), and then print out a statement combining all of them?\n",
    "# How many pokemon games you've played (integer), how tall you are (float), your pokemon trainer name (string), and if you're excited to be learning python (boolean) \n",
    "# The statement could look something like this:\n",
    "#  My trainer name is ____ and I've played ____ pokemon games. I'm ____ feet tall and it's ____ (true/false) that I'm excited to be learning python\n"
   ]
  },
  {
   "cell_type": "markdown",
   "metadata": {},
   "source": [
    "### 4. Lists"
   ]
  },
  {
   "cell_type": "code",
   "execution_count": null,
   "metadata": {},
   "outputs": [],
   "source": [
    "# Lists hold multiple items, like your Pokémon team or items in your bag."
   ]
  },
  {
   "cell_type": "code",
   "execution_count": null,
   "metadata": {},
   "outputs": [
    {
     "name": "stdout",
     "output_type": "stream",
     "text": [
      "['Charizard', 'Blastoise', 'Venusaur']\n",
      "Charizard\n"
     ]
    }
   ],
   "source": [
    "pokemon_team = [\"Charizard\", \"Blastoise\", \"Venusaur\"]\n",
    "print(pokemon_team)\n",
    "\n",
    "# Access specific Pokémon\n",
    "# Python is what's called a 0-indexed based programming language, like most other coding languages. \n",
    "# This means that 0 represents the first item in a list, 1 represents the second item, etc.\n",
    "print(pokemon_team[0])  # Charizard (first Pokémon)"
   ]
  },
  {
   "cell_type": "code",
   "execution_count": null,
   "metadata": {},
   "outputs": [],
   "source": [
    "# Your turn! Make a list of all of your favorite pokemon, and then print out the list, and then print out the 3rd pokemon in the list (remember that python is a 0-indexed based language!)\n"
   ]
  },
  {
   "cell_type": "markdown",
   "metadata": {},
   "source": [
    "### 5. Dictionary"
   ]
  },
  {
   "cell_type": "code",
   "execution_count": 42,
   "metadata": {},
   "outputs": [],
   "source": [
    "# Dictionaries store information in key-value pairs, like a Pokémon's stats."
   ]
  },
  {
   "cell_type": "code",
   "execution_count": null,
   "metadata": {},
   "outputs": [
    {
     "name": "stdout",
     "output_type": "stream",
     "text": [
      "55\n"
     ]
    }
   ],
   "source": [
    "# In dictionaries, the first value before the \":\" is the \"key\" and the value after the \":\" is that key's \"value\". \n",
    "# So, in this dictionary, the key is the pokemon stat, and the value is that stat's value.\n",
    "\n",
    "pikachu_stats = {\n",
    "    \"HP\": 35,\n",
    "    \"Attack\": 55,\n",
    "    \"Defense\": 40,\n",
    "    \"Speed\": 90\n",
    "}\n",
    "\n",
    "print(pikachu_stats[\"Attack\"])  # 55"
   ]
  },
  {
   "cell_type": "code",
   "execution_count": null,
   "metadata": {},
   "outputs": [],
   "source": [
    "# Your turn! Can you build a dictionary of five items where the key is one of your favorite pokemons and the value is its type? \n",
    "# If it has more than one type, just choose one, or separate them with a \"/\" e.g. \"fire/flying\"\n",
    "# e.g. \"Charizard\":\"Fire\"...\n"
   ]
  },
  {
   "cell_type": "markdown",
   "metadata": {},
   "source": [
    "### Why Are Data Types Important?"
   ]
  },
  {
   "cell_type": "code",
   "execution_count": null,
   "metadata": {},
   "outputs": [],
   "source": [
    "\"\"\"\n",
    "Each data type has special powers, like Pokémon types. \n",
    "If you try to use the wrong type in the wrong way, Python will get confused, like using \"Earthquake\" on a Flying-type Pokémon!\n",
    "\"\"\""
   ]
  },
  {
   "cell_type": "markdown",
   "metadata": {},
   "source": [
    "### More examples:"
   ]
  },
  {
   "cell_type": "code",
   "execution_count": 44,
   "metadata": {},
   "outputs": [],
   "source": [
    "# Trainer Info:\n",
    "trainer_name = \"Ash\"  # String\n",
    "trainer_age = 10      # Integer\n",
    "has_pokedex = True    # Boolean"
   ]
  },
  {
   "cell_type": "code",
   "execution_count": null,
   "metadata": {},
   "outputs": [],
   "source": [
    "# Pokemon details\n",
    "pokemon_name = \"Charmander\"  # String\n",
    "level = 12                   # Integer\n",
    "height = 0.6                 # Float\n",
    "is_fire_type = True          # Boolean"
   ]
  },
  {
   "cell_type": "code",
   "execution_count": 46,
   "metadata": {},
   "outputs": [
    {
     "name": "stdout",
     "output_type": "stream",
     "text": [
      "Vine Whip\n"
     ]
    }
   ],
   "source": [
    "# Pokédex Entry:\n",
    "bulbasaur = {\n",
    "    \"Type\": \"Grass/Poison\",\n",
    "    \"Level\": 5,\n",
    "    \"Moves\": [\"Tackle\", \"Growl\", \"Vine Whip\"]\n",
    "}\n",
    "\n",
    "print(bulbasaur[\"Moves\"][2])  # Vine Whip"
   ]
  },
  {
   "cell_type": "markdown",
   "metadata": {},
   "source": [
    "#### Python can be very flexible. For example, we can use the + key with both number and string values"
   ]
  },
  {
   "cell_type": "code",
   "execution_count": 5,
   "metadata": {},
   "outputs": [
    {
     "data": {
      "text/plain": [
       "6"
      ]
     },
     "execution_count": 5,
     "metadata": {},
     "output_type": "execute_result"
    }
   ],
   "source": [
    "# Numbers:\n",
    "3+3"
   ]
  },
  {
   "cell_type": "code",
   "execution_count": 6,
   "metadata": {},
   "outputs": [
    {
     "data": {
      "text/plain": [
       "'HelloWorld'"
      ]
     },
     "execution_count": 6,
     "metadata": {},
     "output_type": "execute_result"
    }
   ],
   "source": [
    "# Strings\n",
    "\"Hello\" + \"World\""
   ]
  },
  {
   "cell_type": "code",
   "execution_count": 7,
   "metadata": {},
   "outputs": [
    {
     "data": {
      "text/plain": [
       "'Hello World'"
      ]
     },
     "execution_count": 7,
     "metadata": {},
     "output_type": "execute_result"
    }
   ],
   "source": [
    "# Notice that python, like most other programming languages, is also very literal. \n",
    "# When we typed \"Hello\" + \"World\", the two words got smacked together without any spaces.\n",
    "# If we want to include a space, we have to put it there ourselves\n",
    "\"Hello\" + \" \" + \"World\""
   ]
  },
  {
   "cell_type": "code",
   "execution_count": null,
   "metadata": {},
   "outputs": [],
   "source": [
    "# Your turn! Can you think of another way to space out \"Hello\" \"World\" like we did above, but this time only using one \"+\" sign?\n"
   ]
  }
 ],
 "metadata": {
  "kernelspec": {
   "display_name": "Python 3",
   "language": "python",
   "name": "python3"
  },
  "language_info": {
   "codemirror_mode": {
    "name": "ipython",
    "version": 3
   },
   "file_extension": ".py",
   "mimetype": "text/x-python",
   "name": "python",
   "nbconvert_exporter": "python",
   "pygments_lexer": "ipython3",
   "version": "3.10.6"
  }
 },
 "nbformat": 4,
 "nbformat_minor": 2
}
