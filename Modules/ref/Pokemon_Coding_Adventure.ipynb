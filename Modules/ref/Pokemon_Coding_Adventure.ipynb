{
 "cells": [
  {
   "cell_type": "markdown",
   "id": "bcc893e9",
   "metadata": {},
   "source": [
    "\n",
    "# Pokémon Coding Adventure\n",
    "\n",
    "Welcome, Pokémon Trainer! In this notebook, you'll learn Python basics to help you build your very own Pokémon game. Let's get started on your journey to become a Python Master! 🎮\n"
   ]
  },
  {
   "cell_type": "markdown",
   "id": "de0702f2",
   "metadata": {},
   "source": [
    "\n",
    "## Hello, World!\n",
    "Every programmer starts with a simple program to print \"Hello, World!\" Let's make it Pokémon-themed! 🐾\n"
   ]
  },
  {
   "cell_type": "code",
   "execution_count": 1,
   "id": "74c0436c",
   "metadata": {},
   "outputs": [
    {
     "name": "stdout",
     "output_type": "stream",
     "text": [
      "Hello, Pikachu!\n"
     ]
    }
   ],
   "source": [
    "print(\"Hello, Pikachu!\")"
   ]
  },
  {
   "cell_type": "markdown",
   "id": "cb3f1813",
   "metadata": {},
   "source": [
    "\n",
    "## Variables and Data Types\n",
    "\n",
    "You can use variables to store information. Let's start by storing your starter Pokémon's name and level.\n"
   ]
  },
  {
   "cell_type": "code",
   "execution_count": 2,
   "id": "ebbdd4aa",
   "metadata": {},
   "outputs": [
    {
     "name": "stdout",
     "output_type": "stream",
     "text": [
      "Charmander is at level 5!\n"
     ]
    }
   ],
   "source": [
    "\n",
    "# Store your Pokémon's name and level\n",
    "pokemon_name = \"Charmander\"\n",
    "pokemon_level = 5\n",
    "\n",
    "# Print them out\n",
    "print(f\"{pokemon_name} is at level {pokemon_level}!\")\n"
   ]
  },
  {
   "cell_type": "markdown",
   "id": "45d3dbf6",
   "metadata": {},
   "source": [
    "\n",
    "## Working with Numbers\n",
    "\n",
    "Calculate how much experience points (XP) your Pokémon needs to level up!\n"
   ]
  },
  {
   "cell_type": "code",
   "execution_count": 3,
   "id": "07fe30a2",
   "metadata": {},
   "outputs": [
    {
     "name": "stdout",
     "output_type": "stream",
     "text": [
      "Charmander needs 80 XP to reach the next level!\n"
     ]
    }
   ],
   "source": [
    "\n",
    "# XP needed to level up\n",
    "current_xp = 120\n",
    "xp_to_next_level = 200 - current_xp\n",
    "\n",
    "print(f\"{pokemon_name} needs {xp_to_next_level} XP to reach the next level!\")\n"
   ]
  },
  {
   "cell_type": "markdown",
   "id": "bd6ea104",
   "metadata": {},
   "source": [
    "\n",
    "## Strings\n",
    "\n",
    "Create and manipulate text to make your trainer motto!\n"
   ]
  },
  {
   "cell_type": "code",
   "execution_count": 4,
   "id": "b91b6452",
   "metadata": {},
   "outputs": [
    {
     "name": "stdout",
     "output_type": "stream",
     "text": [
      "GOTTA CATCH 'EM ALL!\n"
     ]
    }
   ],
   "source": [
    "\n",
    "# Your trainer motto\n",
    "trainer_motto = \"Gotta Catch 'Em All!\"\n",
    "print(trainer_motto.upper())  # Make it shout!\n"
   ]
  },
  {
   "cell_type": "markdown",
   "id": "5a261725",
   "metadata": {},
   "source": [
    "\n",
    "## Lists\n",
    "\n",
    "Store a team of Pokémon in a list and print their names.\n"
   ]
  },
  {
   "cell_type": "code",
   "execution_count": 5,
   "id": "69c96544",
   "metadata": {},
   "outputs": [
    {
     "name": "stdout",
     "output_type": "stream",
     "text": [
      "Your team:\n",
      "Bulbasaur\n",
      "Pidgey\n",
      "Rattata\n"
     ]
    }
   ],
   "source": [
    "\n",
    "# Your Pokémon team\n",
    "pokemon_team = [\"Bulbasaur\", \"Pidgey\", \"Rattata\"]\n",
    "print(\"Your team:\")\n",
    "for pokemon in pokemon_team:\n",
    "    print(pokemon)\n"
   ]
  },
  {
   "cell_type": "markdown",
   "id": "34d7a27a",
   "metadata": {},
   "source": [
    "\n",
    "## Loops\n",
    "\n",
    "Use a loop to display your Pokémon team with their levels.\n"
   ]
  },
  {
   "cell_type": "code",
   "execution_count": 6,
   "id": "9c1b35f6",
   "metadata": {},
   "outputs": [
    {
     "name": "stdout",
     "output_type": "stream",
     "text": [
      "Bulbasaur is at level 5!\n",
      "Pidgey is at level 3!\n",
      "Rattata is at level 2!\n"
     ]
    }
   ],
   "source": [
    "\n",
    "# Pokémon levels\n",
    "pokemon_levels = [5, 3, 2]\n",
    "\n",
    "# Display team with levels\n",
    "for i in range(len(pokemon_team)):\n",
    "    print(f\"{pokemon_team[i]} is at level {pokemon_levels[i]}!\")\n"
   ]
  },
  {
   "cell_type": "markdown",
   "id": "bac0c70d",
   "metadata": {},
   "source": [
    "\n",
    "## Conditionals\n",
    "\n",
    "Check if a Pokémon is strong enough to battle.\n"
   ]
  },
  {
   "cell_type": "code",
   "execution_count": 7,
   "id": "226f4ac7",
   "metadata": {},
   "outputs": [
    {
     "name": "stdout",
     "output_type": "stream",
     "text": [
      "Bulbasaur is ready for battle!\n",
      "Pidgey needs more training.\n",
      "Rattata needs more training.\n"
     ]
    }
   ],
   "source": [
    "\n",
    "# Check if Pokémon is strong enough\n",
    "for i in range(len(pokemon_team)):\n",
    "    if pokemon_levels[i] >= 5:\n",
    "        print(f\"{pokemon_team[i]} is ready for battle!\")\n",
    "    else:\n",
    "        print(f\"{pokemon_team[i]} needs more training.\")\n"
   ]
  },
  {
   "cell_type": "markdown",
   "id": "183add1a",
   "metadata": {},
   "source": [
    "\n",
    "## Functions\n",
    "\n",
    "Write a function to heal your Pokémon.\n"
   ]
  },
  {
   "cell_type": "code",
   "execution_count": 8,
   "id": "47c1e2e7",
   "metadata": {},
   "outputs": [
    {
     "name": "stdout",
     "output_type": "stream",
     "text": [
      "Pidgey is fully healed!\n"
     ]
    }
   ],
   "source": [
    "\n",
    "# Heal a Pokémon\n",
    "def heal_pokemon(pokemon_name, current_hp, max_hp):\n",
    "    current_hp = max_hp\n",
    "    print(f\"{pokemon_name} is fully healed!\")\n",
    "    return current_hp\n",
    "\n",
    "# Example\n",
    "current_hp = 10\n",
    "max_hp = 35\n",
    "current_hp = heal_pokemon(\"Pidgey\", current_hp, max_hp)\n"
   ]
  },
  {
   "cell_type": "markdown",
   "id": "6ee803d7",
   "metadata": {},
   "source": [
    "\n",
    "## Mini-Project: Pokémon Battle\n",
    "\n",
    "Create a simple turn-based Pokémon battle where you choose moves and calculate damage.\n"
   ]
  },
  {
   "cell_type": "code",
   "execution_count": 9,
   "id": "16cfb2e4",
   "metadata": {},
   "outputs": [
    {
     "name": "stdout",
     "output_type": "stream",
     "text": [
      "Choose a move: Scratch or Ember\n",
      "Charmander used Scratch! It dealt 10 damage.\n",
      "Squirtle attacked and dealt 9 damage.\n",
      "Your HP: 30, Opponent's HP: 34\n",
      "Choose a move: Scratch or Ember\n",
      "Charmander used Ember! It dealt 12 damage.\n",
      "Squirtle attacked and dealt 9 damage.\n",
      "Your HP: 21, Opponent's HP: 22\n",
      "Choose a move: Scratch or Ember\n",
      "Charmander used Scratch! It dealt 10 damage.\n",
      "Squirtle attacked and dealt 10 damage.\n",
      "Your HP: 11, Opponent's HP: 12\n",
      "Choose a move: Scratch or Ember\n",
      "Charmander used Scratch! It dealt 10 damage.\n",
      "Squirtle attacked and dealt 10 damage.\n",
      "Your HP: 1, Opponent's HP: 2\n",
      "Choose a move: Scratch or Ember\n",
      "Charmander used Scratch! It dealt 10 damage.\n",
      "Squirtle fainted! You win!\n"
     ]
    }
   ],
   "source": [
    "\n",
    "import random\n",
    "\n",
    "# Pokémon stats\n",
    "your_pokemon = \"Charmander\"\n",
    "opponent_pokemon = \"Squirtle\"\n",
    "your_hp = 39\n",
    "opponent_hp = 44\n",
    "\n",
    "# Moves\n",
    "moves = {\"Scratch\": 10, \"Ember\": 12}\n",
    "\n",
    "# Battle loop\n",
    "while your_hp > 0 and opponent_hp > 0:\n",
    "    # Your turn\n",
    "    print(\"Choose a move: Scratch or Ember\")\n",
    "    move = input(\"Your move: \").capitalize()\n",
    "    if move in moves:\n",
    "        damage = moves[move]\n",
    "        opponent_hp -= damage\n",
    "        print(f\"{your_pokemon} used {move}! It dealt {damage} damage.\")\n",
    "    else:\n",
    "        print(\"Invalid move!\")\n",
    "    \n",
    "    # Check if opponent fainted\n",
    "    if opponent_hp <= 0:\n",
    "        print(f\"{opponent_pokemon} fainted! You win!\")\n",
    "        break\n",
    "    \n",
    "    # Opponent's turn\n",
    "    damage = random.randint(8, 12)\n",
    "    your_hp -= damage\n",
    "    print(f\"{opponent_pokemon} attacked and dealt {damage} damage.\")\n",
    "    \n",
    "    # Check if you fainted\n",
    "    if your_hp <= 0:\n",
    "        print(f\"{your_pokemon} fainted! You lose!\")\n",
    "        break\n",
    "\n",
    "    print(f\"Your HP: {your_hp}, Opponent's HP: {opponent_hp}\")\n"
   ]
  },
  {
   "cell_type": "code",
   "execution_count": null,
   "id": "27261c2a",
   "metadata": {},
   "outputs": [],
   "source": []
  }
 ],
 "metadata": {
  "kernelspec": {
   "display_name": "Python 3",
   "language": "python",
   "name": "python3"
  },
  "language_info": {
   "codemirror_mode": {
    "name": "ipython",
    "version": 3
   },
   "file_extension": ".py",
   "mimetype": "text/x-python",
   "name": "python",
   "nbconvert_exporter": "python",
   "pygments_lexer": "ipython3",
   "version": "3.10.6"
  }
 },
 "nbformat": 4,
 "nbformat_minor": 5
}
