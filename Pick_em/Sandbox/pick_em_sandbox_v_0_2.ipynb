{
 "cells": [
  {
   "cell_type": "markdown",
   "metadata": {},
   "source": [
    "# Test out the pick em game before moving to its own .exe or .py"
   ]
  },
  {
   "cell_type": "markdown",
   "metadata": {},
   "source": [
    "#### 2024-12-11"
   ]
  },
  {
   "cell_type": "code",
   "execution_count": 1,
   "metadata": {},
   "outputs": [],
   "source": [
    "import json\n",
    "import pandas as pd\n",
    "import os\n",
    "import random"
   ]
  },
  {
   "cell_type": "markdown",
   "metadata": {},
   "source": [
    "## Load data"
   ]
  },
  {
   "cell_type": "code",
   "execution_count": 2,
   "metadata": {},
   "outputs": [],
   "source": [
    "path_moves_per_pokemon = os.path.join(\"..\", \"..\", \"Scraping\", \"data\", \"moves_per_pokemon_orig_names.json\")\n",
    "path_pokemon_main_stats = os.path.join(\"..\", \"..\", \"Scraping\", \"data\", \"pokemon_main_stats_data.csv\")\n",
    "path_pokemon_moves_master = os.path.join(\"..\", \"..\", \"Scraping\", \"data\", \"pokemon_moves_data.csv\")\n",
    "path_type_effectiveness = os.path.join(\"..\", \"data\", \"type_effectiveness.json\")"
   ]
  },
  {
   "cell_type": "code",
   "execution_count": 3,
   "metadata": {},
   "outputs": [],
   "source": [
    "# Load moves per pokemon as dict\n",
    "with open(path_moves_per_pokemon, 'r') as f:\n",
    "    dict_moves_per_pokemon = json.load(f)\n",
    "\n",
    "# Load type effectiveness as a dict\n",
    "with open(path_type_effectiveness, 'r') as f:\n",
    "    dict_type_effectiveness = json.load(f)"
   ]
  },
  {
   "cell_type": "code",
   "execution_count": 4,
   "metadata": {},
   "outputs": [],
   "source": [
    "# Load dfs\n",
    "## Each pokemon and their stats\n",
    "df_pokemon_main_stats = pd.read_csv(path_pokemon_main_stats)\n",
    "\n",
    "# Pokemon moves\n",
    "df_pokemon_moves_master = pd.read_csv(path_pokemon_moves_master)\n",
    "df_pokemon_moves_master['Accuracy'] = df_pokemon_moves_master['Accuracy'].replace('∞', '100').astype(float) # Replace '∞' with 100.0 and convert the column to floats\n"
   ]
  },
  {
   "cell_type": "markdown",
   "metadata": {},
   "source": [
    "## Random Selection"
   ]
  },
  {
   "cell_type": "markdown",
   "metadata": {},
   "source": [
    "### Randomly select two pokemon without replacement and four of their moves without replacement"
   ]
  },
  {
   "cell_type": "code",
   "execution_count": 5,
   "metadata": {},
   "outputs": [],
   "source": [
    "# Randomly select two Pokémon without replacement\n",
    "selected_pokemon = random.sample(list(dict_moves_per_pokemon.keys()), 2)"
   ]
  },
  {
   "cell_type": "code",
   "execution_count": 6,
   "metadata": {},
   "outputs": [],
   "source": [
    "# Select 4 random moves for each Pokémon\n",
    "battle_pokemon = {\n",
    "    pokemon: random.sample(dict_moves_per_pokemon[pokemon], 4)\n",
    "    for pokemon in selected_pokemon\n",
    "}"
   ]
  },
  {
   "cell_type": "code",
   "execution_count": 7,
   "metadata": {},
   "outputs": [
    {
     "data": {
      "text/plain": [
       "{'Oranguru': ['After You', 'Gravity', 'Ally Switch', 'Shadow Ball'],\n",
       " 'Kingambit': ['Guillotine', 'Thief', 'Low Kick', 'Slash']}"
      ]
     },
     "execution_count": 7,
     "metadata": {},
     "output_type": "execute_result"
    }
   ],
   "source": [
    "battle_pokemon"
   ]
  },
  {
   "cell_type": "markdown",
   "metadata": {},
   "source": [
    "## Pokemon battle simulation"
   ]
  },
  {
   "cell_type": "code",
   "execution_count": 16,
   "metadata": {},
   "outputs": [],
   "source": [
    "def pokemon_battle(battle_pokemon, df_pokemon_main_stats, df_pokemon_moves_master, dict_type_effectiveness):\n",
    "    # Initialize Pokemon with their stats (same as before)\n",
    "    pokemon = {}\n",
    "    for name, moves in battle_pokemon.items():\n",
    "        stats = df_pokemon_main_stats[df_pokemon_main_stats['Name'] == name].iloc[0]\n",
    "        pokemon[name] = {\n",
    "            'hp': stats['HP'],\n",
    "            'max_hp': stats['HP'],\n",
    "            'attack': stats['Attack'],\n",
    "            'defense': stats['Defense'],\n",
    "            'sp_atk': stats['Sp. Atk'],\n",
    "            'sp_def': stats['Sp. Def'],\n",
    "            'speed': stats['Speed'],\n",
    "            'type': stats['Type'],\n",
    "            'moves': moves\n",
    "        }\n",
    "    \n",
    "    # Determine order based on Speed\n",
    "    order = sorted(pokemon.keys(), key=lambda x: pokemon[x]['speed'], reverse=True)\n",
    "    \n",
    "    def calculate_damage(attacker, defender, move_data, effectiveness):\n",
    "        power = move_data['Power'] if not pd.isna(move_data['Power']) else 0\n",
    "        \n",
    "        # Determine if it's a critical hit (1/24 chance)\n",
    "        is_critical = random.random() < 1/24\n",
    "        critical_multiplier = 2 if is_critical else 1\n",
    "        \n",
    "        if move_data['Category'] == 'Physical':\n",
    "            damage = (((2 * 50 / 5 + 2) * power * attacker['attack'] / defender['defense']) / 50 + 2) * effectiveness * critical_multiplier\n",
    "        elif move_data['Category'] == 'Special':\n",
    "            damage = (((2 * 50 / 5 + 2) * power * attacker['sp_atk'] / defender['sp_def']) / 50 + 2) * effectiveness * critical_multiplier\n",
    "        else:\n",
    "            damage = 0\n",
    "        \n",
    "        damage = max(1, int(damage))  # Ensure at least 1 damage\n",
    "        return damage, is_critical\n",
    "\n",
    "    # Battle loop\n",
    "    while all(pokemon[p]['hp'] > 0 for p in pokemon):\n",
    "        for attacker_name in order:\n",
    "            if pokemon[attacker_name]['hp'] <= 0:\n",
    "                continue\n",
    "            \n",
    "            defender_name = [p for p in pokemon if p != attacker_name][0]\n",
    "            \n",
    "            # Select a random move\n",
    "            move = random.choice(pokemon[attacker_name]['moves'])\n",
    "            move_data = df_pokemon_moves_master[df_pokemon_moves_master['Move Name'] == move].iloc[0]\n",
    "            \n",
    "            print(f\"\\n{attacker_name} used {move} on {defender_name}!\")\n",
    "            \n",
    "            # Check if the move hits based on accuracy\n",
    "            accuracy = move_data['Accuracy']\n",
    "            if pd.isna(accuracy) or random.random() * 100 < accuracy:\n",
    "                # Move hits\n",
    "                # Calculate type effectiveness\n",
    "                effectiveness = 1\n",
    "                for att_type in pokemon[attacker_name]['type']:\n",
    "                    for def_type in pokemon[defender_name]['type']:\n",
    "                        if att_type in dict_type_effectiveness and def_type in dict_type_effectiveness[att_type]:\n",
    "                            effectiveness *= dict_type_effectiveness[att_type][def_type]\n",
    "                \n",
    "                # Calculate damage\n",
    "                damage, is_critical = calculate_damage(pokemon[attacker_name], pokemon[defender_name], move_data, effectiveness)\n",
    "                \n",
    "                # Apply damage\n",
    "                pokemon[defender_name]['hp'] = max(0, pokemon[defender_name]['hp'] - damage)\n",
    "                \n",
    "                # Print battle text\n",
    "                if is_critical:\n",
    "                    print(\"It's a critical hit!\")\n",
    "                if effectiveness > 1:\n",
    "                    print(\"It's super effective!\")\n",
    "                elif effectiveness < 1 and effectiveness > 0:\n",
    "                    print(\"It's not very effective...\")\n",
    "                elif effectiveness == 0:\n",
    "                    print(\"It doesn't affect \" + defender_name + \"...\")\n",
    "                \n",
    "                print(f\"It dealt {damage} damage. {defender_name}'s HP: {pokemon[defender_name]['hp']}/{pokemon[defender_name]['max_hp']}\")\n",
    "                \n",
    "                if pokemon[defender_name]['hp'] <= 0:\n",
    "                    print(f\"{defender_name} fainted! {attacker_name} wins!\")\n",
    "                    return attacker_name\n",
    "            else:\n",
    "                # Move misses\n",
    "                print(f\"But it missed!\")\n",
    "    \n",
    "    return \"Draw\"  # This should never happen in a 1v1 battle, but just in case"
   ]
  },
  {
   "cell_type": "code",
   "execution_count": 17,
   "metadata": {},
   "outputs": [
    {
     "name": "stdout",
     "output_type": "stream",
     "text": [
      "\n",
      "Oranguru used Ally Switch on Kingambit!\n",
      "It dealt 1 damage. Kingambit's HP: 99/100\n",
      "\n",
      "Kingambit used Thief on Oranguru!\n",
      "It dealt 46 damage. Oranguru's HP: 44/90\n",
      "\n",
      "Oranguru used After You on Kingambit!\n",
      "It dealt 1 damage. Kingambit's HP: 98/100\n",
      "\n",
      "Kingambit used Low Kick on Oranguru!\n",
      "It dealt 2 damage. Oranguru's HP: 42/90\n",
      "\n",
      "Oranguru used Ally Switch on Kingambit!\n",
      "It dealt 1 damage. Kingambit's HP: 97/100\n",
      "\n",
      "Kingambit used Guillotine on Oranguru!\n",
      "It dealt 2 damage. Oranguru's HP: 40/90\n",
      "\n",
      "Oranguru used Gravity on Kingambit!\n",
      "It dealt 1 damage. Kingambit's HP: 96/100\n",
      "\n",
      "Kingambit used Thief on Oranguru!\n",
      "It dealt 46 damage. Oranguru's HP: 0/90\n",
      "Oranguru fainted! Kingambit wins!\n"
     ]
    },
    {
     "data": {
      "text/plain": [
       "'Kingambit'"
      ]
     },
     "execution_count": 17,
     "metadata": {},
     "output_type": "execute_result"
    }
   ],
   "source": [
    "pokemon_battle(battle_pokemon, df_pokemon_main_stats, df_pokemon_moves_master, dict_type_effectiveness)"
   ]
  },
  {
   "cell_type": "code",
   "execution_count": null,
   "metadata": {},
   "outputs": [],
   "source": [
    "## Now work on:\n",
    "# PP\n",
    "# Effects\n",
    "# Status effects\n",
    "# Simplified? damage calc - what are we missing?\n",
    "\"\"\"\n",
    "Note that this is a simplified version and doesn't include all Pokémon battle mechanics \n",
    " (such as status effects, critical hits, or move PP). \n",
    " You can expand on this base to add more complex mechanics as needed.\n",
    "\"\"\"\n",
    "\n",
    "# 12/12/2024:\n",
    "# Added in crit chance \n",
    "# Added in accuracy\n",
    "# Added in text for crit, super/not very effective when applicable"
   ]
  },
  {
   "cell_type": "code",
   "execution_count": 25,
   "metadata": {},
   "outputs": [
    {
     "data": {
      "text/html": [
       "<div>\n",
       "<style scoped>\n",
       "    .dataframe tbody tr th:only-of-type {\n",
       "        vertical-align: middle;\n",
       "    }\n",
       "\n",
       "    .dataframe tbody tr th {\n",
       "        vertical-align: top;\n",
       "    }\n",
       "\n",
       "    .dataframe thead th {\n",
       "        text-align: right;\n",
       "    }\n",
       "</style>\n",
       "<table border=\"1\" class=\"dataframe\">\n",
       "  <thead>\n",
       "    <tr style=\"text-align: right;\">\n",
       "      <th></th>\n",
       "      <th>Move Name</th>\n",
       "      <th>Type</th>\n",
       "      <th>Category</th>\n",
       "      <th>Power</th>\n",
       "      <th>Accuracy</th>\n",
       "      <th>PP</th>\n",
       "      <th>Effect</th>\n",
       "      <th>Probability (%)</th>\n",
       "    </tr>\n",
       "  </thead>\n",
       "  <tbody>\n",
       "    <tr>\n",
       "      <th>703</th>\n",
       "      <td>Self-Destruct</td>\n",
       "      <td>Normal</td>\n",
       "      <td>Physical</td>\n",
       "      <td>200.0</td>\n",
       "      <td>100.0</td>\n",
       "      <td>5.0</td>\n",
       "      <td>User faints.</td>\n",
       "      <td>NaN</td>\n",
       "    </tr>\n",
       "  </tbody>\n",
       "</table>\n",
       "</div>"
      ],
      "text/plain": [
       "         Move Name    Type  Category  Power  Accuracy   PP        Effect  \\\n",
       "703  Self-Destruct  Normal  Physical  200.0     100.0  5.0  User faints.   \n",
       "\n",
       "     Probability (%)  \n",
       "703              NaN  "
      ]
     },
     "execution_count": 25,
     "metadata": {},
     "output_type": "execute_result"
    }
   ],
   "source": [
    "df_pokemon_moves_master[df_pokemon_moves_master['Move Name'] == 'Self-Destruct']"
   ]
  },
  {
   "cell_type": "code",
   "execution_count": 12,
   "metadata": {},
   "outputs": [
    {
     "data": {
      "text/html": [
       "<div>\n",
       "<style scoped>\n",
       "    .dataframe tbody tr th:only-of-type {\n",
       "        vertical-align: middle;\n",
       "    }\n",
       "\n",
       "    .dataframe tbody tr th {\n",
       "        vertical-align: top;\n",
       "    }\n",
       "\n",
       "    .dataframe thead th {\n",
       "        text-align: right;\n",
       "    }\n",
       "</style>\n",
       "<table border=\"1\" class=\"dataframe\">\n",
       "  <thead>\n",
       "    <tr style=\"text-align: right;\">\n",
       "      <th></th>\n",
       "      <th>Move Name</th>\n",
       "      <th>Type</th>\n",
       "      <th>Category</th>\n",
       "      <th>Power</th>\n",
       "      <th>Accuracy</th>\n",
       "      <th>PP</th>\n",
       "      <th>Effect</th>\n",
       "      <th>Probability (%)</th>\n",
       "    </tr>\n",
       "  </thead>\n",
       "  <tbody>\n",
       "    <tr>\n",
       "      <th>357</th>\n",
       "      <td>Guillotine</td>\n",
       "      <td>Normal</td>\n",
       "      <td>Physical</td>\n",
       "      <td>NaN</td>\n",
       "      <td>30.0</td>\n",
       "      <td>5.0</td>\n",
       "      <td>One-Hit-KO, if it hits.</td>\n",
       "      <td>NaN</td>\n",
       "    </tr>\n",
       "  </tbody>\n",
       "</table>\n",
       "</div>"
      ],
      "text/plain": [
       "      Move Name    Type  Category  Power  Accuracy   PP  \\\n",
       "357  Guillotine  Normal  Physical    NaN      30.0  5.0   \n",
       "\n",
       "                      Effect  Probability (%)  \n",
       "357  One-Hit-KO, if it hits.              NaN  "
      ]
     },
     "execution_count": 12,
     "metadata": {},
     "output_type": "execute_result"
    }
   ],
   "source": [
    "df_pokemon_moves_master[df_pokemon_moves_master['Move Name'] == 'Guillotine']"
   ]
  },
  {
   "cell_type": "code",
   "execution_count": 18,
   "metadata": {},
   "outputs": [
    {
     "data": {
      "text/html": [
       "<div>\n",
       "<style scoped>\n",
       "    .dataframe tbody tr th:only-of-type {\n",
       "        vertical-align: middle;\n",
       "    }\n",
       "\n",
       "    .dataframe tbody tr th {\n",
       "        vertical-align: top;\n",
       "    }\n",
       "\n",
       "    .dataframe thead th {\n",
       "        text-align: right;\n",
       "    }\n",
       "</style>\n",
       "<table border=\"1\" class=\"dataframe\">\n",
       "  <thead>\n",
       "    <tr style=\"text-align: right;\">\n",
       "      <th></th>\n",
       "      <th>Move Name</th>\n",
       "      <th>Type</th>\n",
       "      <th>Category</th>\n",
       "      <th>Power</th>\n",
       "      <th>Accuracy</th>\n",
       "      <th>PP</th>\n",
       "      <th>Effect</th>\n",
       "      <th>Probability (%)</th>\n",
       "    </tr>\n",
       "  </thead>\n",
       "  <tbody>\n",
       "    <tr>\n",
       "      <th>849</th>\n",
       "      <td>Thief</td>\n",
       "      <td>Dark</td>\n",
       "      <td>Physical</td>\n",
       "      <td>60.0</td>\n",
       "      <td>100.0</td>\n",
       "      <td>25.0</td>\n",
       "      <td>Also steals opponent's held item.</td>\n",
       "      <td>NaN</td>\n",
       "    </tr>\n",
       "  </tbody>\n",
       "</table>\n",
       "</div>"
      ],
      "text/plain": [
       "    Move Name  Type  Category  Power  Accuracy    PP  \\\n",
       "849     Thief  Dark  Physical   60.0     100.0  25.0   \n",
       "\n",
       "                                Effect  Probability (%)  \n",
       "849  Also steals opponent's held item.              NaN  "
      ]
     },
     "execution_count": 18,
     "metadata": {},
     "output_type": "execute_result"
    }
   ],
   "source": [
    "df_pokemon_moves_master[df_pokemon_moves_master['Move Name'] == 'Thief']"
   ]
  },
  {
   "cell_type": "code",
   "execution_count": null,
   "metadata": {},
   "outputs": [],
   "source": []
  }
 ],
 "metadata": {
  "kernelspec": {
   "display_name": "Python 3",
   "language": "python",
   "name": "python3"
  },
  "language_info": {
   "codemirror_mode": {
    "name": "ipython",
    "version": 3
   },
   "file_extension": ".py",
   "mimetype": "text/x-python",
   "name": "python",
   "nbconvert_exporter": "python",
   "pygments_lexer": "ipython3",
   "version": "3.10.6"
  }
 },
 "nbformat": 4,
 "nbformat_minor": 2
}
