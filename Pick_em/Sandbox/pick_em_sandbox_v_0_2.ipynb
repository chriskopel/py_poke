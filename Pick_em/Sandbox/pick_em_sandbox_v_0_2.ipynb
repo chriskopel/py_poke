{
 "cells": [
  {
   "cell_type": "markdown",
   "metadata": {},
   "source": [
    "# Test out the pick em game before moving to its own .exe or .py"
   ]
  },
  {
   "cell_type": "markdown",
   "metadata": {},
   "source": [
    "#### 2024-12-11"
   ]
  },
  {
   "cell_type": "code",
   "execution_count": 1,
   "metadata": {},
   "outputs": [],
   "source": [
    "import json\n",
    "import pandas as pd\n",
    "import os\n",
    "import random"
   ]
  },
  {
   "cell_type": "markdown",
   "metadata": {},
   "source": [
    "## Load data"
   ]
  },
  {
   "cell_type": "code",
   "execution_count": 11,
   "metadata": {},
   "outputs": [],
   "source": [
    "path_moves_per_pokemon = os.path.join(\"..\", \"..\", \"Scraping\", \"data\", \"moves_per_pokemon_orig_names.json\")\n",
    "path_pokemon_main_stats = os.path.join(\"..\", \"..\", \"Scraping\", \"data\", \"pokemon_main_stats_data.csv\")\n",
    "path_pokemon_moves_master = os.path.join(\"..\", \"..\", \"Scraping\", \"data\", \"pokemon_moves_data.csv\")\n",
    "path_type_effectiveness = os.path.join(\"..\", \"data\", \"type_effectiveness.json\")"
   ]
  },
  {
   "cell_type": "code",
   "execution_count": 12,
   "metadata": {},
   "outputs": [],
   "source": [
    "# Load moves per pokemon as dict\n",
    "with open(path_moves_per_pokemon, 'r') as f:\n",
    "    dict_moves_per_pokemon = json.load(f)\n",
    "\n",
    "# Load type effectiveness as a dict\n",
    "with open(path_type_effectiveness, 'r') as f:\n",
    "    dict_type_effectiveness = json.load(f)"
   ]
  },
  {
   "cell_type": "code",
   "execution_count": 14,
   "metadata": {},
   "outputs": [],
   "source": [
    "# Load dfs\n",
    "## Each pokemon and their stats\n",
    "df_pokemon_main_stats = pd.read_csv(path_pokemon_main_stats)\n",
    "\n",
    "# Pokemon moves\n",
    "df_pokemon_moves_master = pd.read_csv(path_pokemon_moves_master)\n",
    "df_pokemon_moves_master['Accuracy'] = df_pokemon_moves_master['Accuracy'].replace('∞', '100').astype(float) # Replace '∞' with 100.0 and convert the column to floats\n"
   ]
  },
  {
   "cell_type": "code",
   "execution_count": null,
   "metadata": {},
   "outputs": [],
   "source": []
  },
  {
   "cell_type": "code",
   "execution_count": 21,
   "metadata": {},
   "outputs": [
    {
     "data": {
      "text/html": [
       "<div>\n",
       "<style scoped>\n",
       "    .dataframe tbody tr th:only-of-type {\n",
       "        vertical-align: middle;\n",
       "    }\n",
       "\n",
       "    .dataframe tbody tr th {\n",
       "        vertical-align: top;\n",
       "    }\n",
       "\n",
       "    .dataframe thead th {\n",
       "        text-align: right;\n",
       "    }\n",
       "</style>\n",
       "<table border=\"1\" class=\"dataframe\">\n",
       "  <thead>\n",
       "    <tr style=\"text-align: right;\">\n",
       "      <th></th>\n",
       "      <th>Move Name</th>\n",
       "      <th>Type</th>\n",
       "      <th>Category</th>\n",
       "      <th>Power</th>\n",
       "      <th>Accuracy</th>\n",
       "      <th>PP</th>\n",
       "      <th>Effect</th>\n",
       "      <th>Probability (%)</th>\n",
       "    </tr>\n",
       "  </thead>\n",
       "  <tbody>\n",
       "    <tr>\n",
       "      <th>0</th>\n",
       "      <td>10,000,000 Volt Thunderbolt</td>\n",
       "      <td>Electric</td>\n",
       "      <td>Special</td>\n",
       "      <td>195.0</td>\n",
       "      <td>NaN</td>\n",
       "      <td>1.0</td>\n",
       "      <td>Pikachu-exclusive Z-Move. High critical hit ra...</td>\n",
       "      <td>NaN</td>\n",
       "    </tr>\n",
       "    <tr>\n",
       "      <th>1</th>\n",
       "      <td>Absorb</td>\n",
       "      <td>Grass</td>\n",
       "      <td>Special</td>\n",
       "      <td>20.0</td>\n",
       "      <td>100.0</td>\n",
       "      <td>25.0</td>\n",
       "      <td>User recovers half the HP inflicted on opponent.</td>\n",
       "      <td>NaN</td>\n",
       "    </tr>\n",
       "    <tr>\n",
       "      <th>2</th>\n",
       "      <td>Accelerock</td>\n",
       "      <td>Rock</td>\n",
       "      <td>Physical</td>\n",
       "      <td>40.0</td>\n",
       "      <td>100.0</td>\n",
       "      <td>20.0</td>\n",
       "      <td>User attacks first.</td>\n",
       "      <td>NaN</td>\n",
       "    </tr>\n",
       "    <tr>\n",
       "      <th>3</th>\n",
       "      <td>Acid</td>\n",
       "      <td>Poison</td>\n",
       "      <td>Special</td>\n",
       "      <td>40.0</td>\n",
       "      <td>100.0</td>\n",
       "      <td>30.0</td>\n",
       "      <td>May lower opponent's Special Defense.</td>\n",
       "      <td>10.0</td>\n",
       "    </tr>\n",
       "    <tr>\n",
       "      <th>4</th>\n",
       "      <td>Acid Armor</td>\n",
       "      <td>Poison</td>\n",
       "      <td>Status</td>\n",
       "      <td>NaN</td>\n",
       "      <td>NaN</td>\n",
       "      <td>20.0</td>\n",
       "      <td>Sharply raises user's Defense.</td>\n",
       "      <td>NaN</td>\n",
       "    </tr>\n",
       "    <tr>\n",
       "      <th>...</th>\n",
       "      <td>...</td>\n",
       "      <td>...</td>\n",
       "      <td>...</td>\n",
       "      <td>...</td>\n",
       "      <td>...</td>\n",
       "      <td>...</td>\n",
       "      <td>...</td>\n",
       "      <td>...</td>\n",
       "    </tr>\n",
       "    <tr>\n",
       "      <th>929</th>\n",
       "      <td>Yawn</td>\n",
       "      <td>Normal</td>\n",
       "      <td>Status</td>\n",
       "      <td>NaN</td>\n",
       "      <td>NaN</td>\n",
       "      <td>10.0</td>\n",
       "      <td>Puts opponent to sleep in the next turn.</td>\n",
       "      <td>NaN</td>\n",
       "    </tr>\n",
       "    <tr>\n",
       "      <th>930</th>\n",
       "      <td>Zap Cannon</td>\n",
       "      <td>Electric</td>\n",
       "      <td>Special</td>\n",
       "      <td>120.0</td>\n",
       "      <td>50.0</td>\n",
       "      <td>5.0</td>\n",
       "      <td>Paralyzes opponent.</td>\n",
       "      <td>100.0</td>\n",
       "    </tr>\n",
       "    <tr>\n",
       "      <th>931</th>\n",
       "      <td>Zen Headbutt</td>\n",
       "      <td>Psychic</td>\n",
       "      <td>Physical</td>\n",
       "      <td>80.0</td>\n",
       "      <td>90.0</td>\n",
       "      <td>15.0</td>\n",
       "      <td>May cause flinching.</td>\n",
       "      <td>20.0</td>\n",
       "    </tr>\n",
       "    <tr>\n",
       "      <th>932</th>\n",
       "      <td>Zing Zap</td>\n",
       "      <td>Electric</td>\n",
       "      <td>Physical</td>\n",
       "      <td>80.0</td>\n",
       "      <td>100.0</td>\n",
       "      <td>10.0</td>\n",
       "      <td>May cause flinching.</td>\n",
       "      <td>30.0</td>\n",
       "    </tr>\n",
       "    <tr>\n",
       "      <th>933</th>\n",
       "      <td>Zippy Zap</td>\n",
       "      <td>Electric</td>\n",
       "      <td>Physical</td>\n",
       "      <td>50.0</td>\n",
       "      <td>100.0</td>\n",
       "      <td>15.0</td>\n",
       "      <td>Always results in a critical hit.</td>\n",
       "      <td>100.0</td>\n",
       "    </tr>\n",
       "  </tbody>\n",
       "</table>\n",
       "<p>934 rows × 8 columns</p>\n",
       "</div>"
      ],
      "text/plain": [
       "                       Move Name      Type  Category  Power  Accuracy    PP  \\\n",
       "0    10,000,000 Volt Thunderbolt  Electric   Special  195.0       NaN   1.0   \n",
       "1                         Absorb     Grass   Special   20.0     100.0  25.0   \n",
       "2                     Accelerock      Rock  Physical   40.0     100.0  20.0   \n",
       "3                           Acid    Poison   Special   40.0     100.0  30.0   \n",
       "4                     Acid Armor    Poison    Status    NaN       NaN  20.0   \n",
       "..                           ...       ...       ...    ...       ...   ...   \n",
       "929                         Yawn    Normal    Status    NaN       NaN  10.0   \n",
       "930                   Zap Cannon  Electric   Special  120.0      50.0   5.0   \n",
       "931                 Zen Headbutt   Psychic  Physical   80.0      90.0  15.0   \n",
       "932                     Zing Zap  Electric  Physical   80.0     100.0  10.0   \n",
       "933                    Zippy Zap  Electric  Physical   50.0     100.0  15.0   \n",
       "\n",
       "                                                Effect  Probability (%)  \n",
       "0    Pikachu-exclusive Z-Move. High critical hit ra...              NaN  \n",
       "1     User recovers half the HP inflicted on opponent.              NaN  \n",
       "2                                  User attacks first.              NaN  \n",
       "3                May lower opponent's Special Defense.             10.0  \n",
       "4                       Sharply raises user's Defense.              NaN  \n",
       "..                                                 ...              ...  \n",
       "929           Puts opponent to sleep in the next turn.              NaN  \n",
       "930                                Paralyzes opponent.            100.0  \n",
       "931                               May cause flinching.             20.0  \n",
       "932                               May cause flinching.             30.0  \n",
       "933                  Always results in a critical hit.            100.0  \n",
       "\n",
       "[934 rows x 8 columns]"
      ]
     },
     "execution_count": 21,
     "metadata": {},
     "output_type": "execute_result"
    }
   ],
   "source": [
    "df_pokemon_moves_master"
   ]
  },
  {
   "cell_type": "code",
   "execution_count": null,
   "metadata": {},
   "outputs": [],
   "source": []
  },
  {
   "cell_type": "markdown",
   "metadata": {},
   "source": [
    "## Random Selection"
   ]
  },
  {
   "cell_type": "markdown",
   "metadata": {},
   "source": [
    "### Randomly select two pokemon without replacement and four of their moves without replacement"
   ]
  },
  {
   "cell_type": "code",
   "execution_count": 8,
   "metadata": {},
   "outputs": [],
   "source": [
    "# Randomly select two Pokémon without replacement\n",
    "selected_pokemon = random.sample(list(dict_moves_per_pokemon.keys()), 2)"
   ]
  },
  {
   "cell_type": "code",
   "execution_count": 9,
   "metadata": {},
   "outputs": [],
   "source": [
    "# Select 4 random moves for each Pokémon\n",
    "battle_pokemon = {\n",
    "    pokemon: random.sample(dict_moves_per_pokemon[pokemon], 4)\n",
    "    for pokemon in selected_pokemon\n",
    "}"
   ]
  },
  {
   "cell_type": "code",
   "execution_count": 10,
   "metadata": {},
   "outputs": [
    {
     "data": {
      "text/plain": [
       "{'Sealeo': ['Roar', 'Bulldoze', 'Snore', 'Rock Tomb'],\n",
       " 'Cryogonal': ['Protect', 'Haze', 'Self-Destruct', 'Icy Wind']}"
      ]
     },
     "execution_count": 10,
     "metadata": {},
     "output_type": "execute_result"
    }
   ],
   "source": [
    "battle_pokemon"
   ]
  },
  {
   "cell_type": "markdown",
   "metadata": {},
   "source": [
    "## Pokemon battle simulation"
   ]
  },
  {
   "cell_type": "code",
   "execution_count": 22,
   "metadata": {},
   "outputs": [],
   "source": [
    "import random\n",
    "\n",
    "def pokemon_battle(battle_pokemon, df_pokemon_main_stats, df_pokemon_moves_master, dict_type_effectiveness):\n",
    "    # Initialize Pokemon with their stats\n",
    "    pokemon = {}\n",
    "    for name, moves in battle_pokemon.items():\n",
    "        stats = df_pokemon_main_stats[df_pokemon_main_stats['Name'] == name].iloc[0]\n",
    "        pokemon[name] = {\n",
    "            'hp': stats['HP'],\n",
    "            'max_hp': stats['HP'],\n",
    "            'attack': stats['Attack'],\n",
    "            'defense': stats['Defense'],\n",
    "            'sp_atk': stats['Sp. Atk'],\n",
    "            'sp_def': stats['Sp. Def'],\n",
    "            'speed': stats['Speed'],\n",
    "            'type': stats['Type'],\n",
    "            'moves': moves\n",
    "        }\n",
    "    \n",
    "    # Determine order based on Speed\n",
    "    order = sorted(pokemon.keys(), key=lambda x: pokemon[x]['speed'], reverse=True)\n",
    "    \n",
    "    # Battle loop\n",
    "    while all(pokemon[p]['hp'] > 0 for p in pokemon):\n",
    "        for attacker_name in order:\n",
    "            if pokemon[attacker_name]['hp'] <= 0:\n",
    "                continue\n",
    "            \n",
    "            defender_name = [p for p in pokemon if p != attacker_name][0]\n",
    "            \n",
    "            # Select a random move\n",
    "            move = random.choice(pokemon[attacker_name]['moves'])\n",
    "            move_data = df_pokemon_moves_master[df_pokemon_moves_master['Move Name'] == move].iloc[0]\n",
    "            \n",
    "            # Calculate damage\n",
    "            power = move_data['Power'] if not pd.isna(move_data['Power']) else 0\n",
    "            attacker = pokemon[attacker_name]\n",
    "            defender = pokemon[defender_name]\n",
    "            \n",
    "            # Type effectiveness\n",
    "            effectiveness = 1\n",
    "            for att_type in attacker['type']:\n",
    "                for def_type in defender['type']:\n",
    "                    if att_type in dict_type_effectiveness and def_type in dict_type_effectiveness[att_type]:\n",
    "                        effectiveness *= dict_type_effectiveness[att_type][def_type]\n",
    "            \n",
    "            # Damage calculation (simplified)\n",
    "            if move_data['Category'] == 'Physical':\n",
    "                damage = (((2 * 50 / 5 + 2) * power * attacker['attack'] / defender['defense']) / 50 + 2) * effectiveness\n",
    "            elif move_data['Category'] == 'Special':\n",
    "                damage = (((2 * 50 / 5 + 2) * power * attacker['sp_atk'] / defender['sp_def']) / 50 + 2) * effectiveness\n",
    "            else:\n",
    "                damage = 0\n",
    "            \n",
    "            damage = max(1, int(damage))  # Ensure at least 1 damage\n",
    "            \n",
    "            # Apply damage\n",
    "            pokemon[defender_name]['hp'] = max(0, pokemon[defender_name]['hp'] - damage)\n",
    "            \n",
    "            print(f\"{attacker_name} used {move} on {defender_name}!\")\n",
    "            print(f\"It dealt {damage} damage. {defender_name}'s HP: {pokemon[defender_name]['hp']}/{pokemon[defender_name]['max_hp']}\")\n",
    "            \n",
    "            if pokemon[defender_name]['hp'] <= 0:\n",
    "                print(f\"{defender_name} fainted! {attacker_name} wins!\")\n",
    "                return attacker_name\n",
    "    \n",
    "    return \"Draw\"  # This should never happen in a 1v1 battle, but just in case"
   ]
  },
  {
   "cell_type": "code",
   "execution_count": 23,
   "metadata": {},
   "outputs": [
    {
     "name": "stdout",
     "output_type": "stream",
     "text": [
      "Cryogonal used Self-Destruct on Sealeo!\n",
      "It dealt 64 damage. Sealeo's HP: 26/90\n",
      "Sealeo used Bulldoze on Cryogonal!\n",
      "It dealt 33 damage. Cryogonal's HP: 47/80\n",
      "Cryogonal used Icy Wind on Sealeo!\n",
      "It dealt 34 damage. Sealeo's HP: 0/90\n",
      "Sealeo fainted! Cryogonal wins!\n"
     ]
    },
    {
     "data": {
      "text/plain": [
       "'Cryogonal'"
      ]
     },
     "execution_count": 23,
     "metadata": {},
     "output_type": "execute_result"
    }
   ],
   "source": [
    "pokemon_battle(battle_pokemon, df_pokemon_main_stats, df_pokemon_moves_master, dict_type_effectiveness)"
   ]
  },
  {
   "cell_type": "code",
   "execution_count": null,
   "metadata": {},
   "outputs": [],
   "source": [
    "## Now work on:\n",
    "# Printing out whether super effective, not very effective\n",
    "# PP\n",
    "# Effects\n",
    "# Simplified? damage calc - what are we missing?\n",
    "\"\"\"\n",
    "Note that this is a simplified version and doesn't include all Pokémon battle mechanics \n",
    " (such as status effects, critical hits, or move PP). \n",
    " You can expand on this base to add more complex mechanics as needed.\n",
    "\"\"\""
   ]
  },
  {
   "cell_type": "code",
   "execution_count": 25,
   "metadata": {},
   "outputs": [
    {
     "data": {
      "text/html": [
       "<div>\n",
       "<style scoped>\n",
       "    .dataframe tbody tr th:only-of-type {\n",
       "        vertical-align: middle;\n",
       "    }\n",
       "\n",
       "    .dataframe tbody tr th {\n",
       "        vertical-align: top;\n",
       "    }\n",
       "\n",
       "    .dataframe thead th {\n",
       "        text-align: right;\n",
       "    }\n",
       "</style>\n",
       "<table border=\"1\" class=\"dataframe\">\n",
       "  <thead>\n",
       "    <tr style=\"text-align: right;\">\n",
       "      <th></th>\n",
       "      <th>Move Name</th>\n",
       "      <th>Type</th>\n",
       "      <th>Category</th>\n",
       "      <th>Power</th>\n",
       "      <th>Accuracy</th>\n",
       "      <th>PP</th>\n",
       "      <th>Effect</th>\n",
       "      <th>Probability (%)</th>\n",
       "    </tr>\n",
       "  </thead>\n",
       "  <tbody>\n",
       "    <tr>\n",
       "      <th>703</th>\n",
       "      <td>Self-Destruct</td>\n",
       "      <td>Normal</td>\n",
       "      <td>Physical</td>\n",
       "      <td>200.0</td>\n",
       "      <td>100.0</td>\n",
       "      <td>5.0</td>\n",
       "      <td>User faints.</td>\n",
       "      <td>NaN</td>\n",
       "    </tr>\n",
       "  </tbody>\n",
       "</table>\n",
       "</div>"
      ],
      "text/plain": [
       "         Move Name    Type  Category  Power  Accuracy   PP        Effect  \\\n",
       "703  Self-Destruct  Normal  Physical  200.0     100.0  5.0  User faints.   \n",
       "\n",
       "     Probability (%)  \n",
       "703              NaN  "
      ]
     },
     "execution_count": 25,
     "metadata": {},
     "output_type": "execute_result"
    }
   ],
   "source": [
    "df_pokemon_moves_master[df_pokemon_moves_master['Move Name'] == 'Self-Destruct']"
   ]
  },
  {
   "cell_type": "code",
   "execution_count": null,
   "metadata": {},
   "outputs": [],
   "source": []
  }
 ],
 "metadata": {
  "kernelspec": {
   "display_name": "Python 3",
   "language": "python",
   "name": "python3"
  },
  "language_info": {
   "codemirror_mode": {
    "name": "ipython",
    "version": 3
   },
   "file_extension": ".py",
   "mimetype": "text/x-python",
   "name": "python",
   "nbconvert_exporter": "python",
   "pygments_lexer": "ipython3",
   "version": "3.10.6"
  }
 },
 "nbformat": 4,
 "nbformat_minor": 2
}
