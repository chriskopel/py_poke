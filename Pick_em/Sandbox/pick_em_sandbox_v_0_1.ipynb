{
 "cells": [
  {
   "cell_type": "markdown",
   "metadata": {},
   "source": [
    "# Test out the pick em game before moving to its own .exe or .py"
   ]
  },
  {
   "cell_type": "markdown",
   "metadata": {},
   "source": [
    "#### 2024-12-10"
   ]
  },
  {
   "cell_type": "code",
   "execution_count": 1,
   "metadata": {},
   "outputs": [],
   "source": [
    "import json\n",
    "import pandas as pd\n",
    "import os\n",
    "import random"
   ]
  },
  {
   "cell_type": "markdown",
   "metadata": {},
   "source": [
    "## Load data"
   ]
  },
  {
   "cell_type": "code",
   "execution_count": 2,
   "metadata": {},
   "outputs": [],
   "source": [
    "path_moves_per_pokemon = os.path.join(\"..\", \"Scraping\", \"data\", \"moves_per_pokemon_orig_names.json\")\n",
    "path_pokemon_main_stats = os.path.join(\"..\", \"Scraping\", \"data\", \"pokemon_main_stats_data.csv\")\n",
    "path_pokemon_moves_master = os.path.join(\"..\", \"Scraping\", \"data\", \"pokemon_moves_data.csv\")"
   ]
  },
  {
   "cell_type": "code",
   "execution_count": 3,
   "metadata": {},
   "outputs": [],
   "source": [
    "# Load moves per pokemon as dict\n",
    "with open(path_moves_per_pokemon, 'r') as f:\n",
    "    dict_moves_per_pokemon = json.load(f)"
   ]
  },
  {
   "cell_type": "code",
   "execution_count": 4,
   "metadata": {},
   "outputs": [],
   "source": [
    "# Load dfs\n",
    "## Each pokemon and their stats\n",
    "df_pokemon_main_stats = pd.read_csv(path_pokemon_main_stats)\n",
    "\n",
    "# Pokemon moves\n",
    "df_pokemon_moves_master = pd.read_csv(path_pokemon_moves_master)\n",
    "df_pokemon_moves_master['Accuracy'] = df_pokemon_moves_master['Accuracy'].replace('∞', '100').astype(float) # Replace '∞' with 100.0 and convert the column to floats\n"
   ]
  },
  {
   "cell_type": "markdown",
   "metadata": {},
   "source": [
    "## Random Selection"
   ]
  },
  {
   "cell_type": "markdown",
   "metadata": {},
   "source": [
    "### Randomly select two pokemon without replacement and four of their moves without replacement"
   ]
  },
  {
   "cell_type": "code",
   "execution_count": 13,
   "metadata": {},
   "outputs": [],
   "source": [
    "# Randomly select two Pokémon without replacement\n",
    "selected_pokemon = random.sample(list(dict_moves_per_pokemon.keys()), 2)"
   ]
  },
  {
   "cell_type": "code",
   "execution_count": 14,
   "metadata": {},
   "outputs": [],
   "source": [
    "# Select 4 random moves for each Pokémon\n",
    "battle_pokemon = {\n",
    "    pokemon: random.sample(dict_moves_per_pokemon[pokemon], 4)\n",
    "    for pokemon in selected_pokemon\n",
    "}"
   ]
  },
  {
   "cell_type": "code",
   "execution_count": 15,
   "metadata": {},
   "outputs": [
    {
     "data": {
      "text/plain": [
       "{'Castform': ['Retaliate', 'Reflect Type', 'Return', 'Water Gun'],\n",
       " 'Litwick': ['Shadow Ball', 'Round', 'Night Shade', 'Heat Wave']}"
      ]
     },
     "execution_count": 15,
     "metadata": {},
     "output_type": "execute_result"
    }
   ],
   "source": [
    "battle_pokemon"
   ]
  },
  {
   "cell_type": "code",
   "execution_count": 16,
   "metadata": {},
   "outputs": [
    {
     "ename": "KeyError",
     "evalue": "'Metang'",
     "output_type": "error",
     "traceback": [
      "\u001b[1;31m---------------------------------------------------------------------------\u001b[0m",
      "\u001b[1;31mKeyError\u001b[0m                                  Traceback (most recent call last)",
      "Input \u001b[1;32mIn [16]\u001b[0m, in \u001b[0;36m<cell line: 1>\u001b[1;34m()\u001b[0m\n\u001b[1;32m----> 1\u001b[0m df_pokemon_moves_master[df_pokemon_moves_master[\u001b[38;5;124m'\u001b[39m\u001b[38;5;124mMove Name\u001b[39m\u001b[38;5;124m'\u001b[39m] \u001b[38;5;241m==\u001b[39m \u001b[43mbattle_pokemon\u001b[49m\u001b[43m[\u001b[49m\u001b[38;5;124;43m'\u001b[39;49m\u001b[38;5;124;43mMetang\u001b[39;49m\u001b[38;5;124;43m'\u001b[39;49m\u001b[43m]\u001b[49m[\u001b[38;5;241m0\u001b[39m]]\n",
      "\u001b[1;31mKeyError\u001b[0m: 'Metang'"
     ]
    }
   ],
   "source": [
    "df_pokemon_moves_master[df_pokemon_moves_master['Move Name'] == battle_pokemon['Metang'][0]]"
   ]
  },
  {
   "cell_type": "code",
   "execution_count": 52,
   "metadata": {},
   "outputs": [
    {
     "data": {
      "text/plain": [
       "100    446\n",
       "90      72\n",
       "∞       55\n",
       "95      37\n",
       "85      35\n",
       "80      12\n",
       "75      11\n",
       "70       5\n",
       "50       4\n",
       "30       4\n",
       "55       3\n",
       "60       1\n",
       "Name: Accuracy, dtype: int64"
      ]
     },
     "execution_count": 52,
     "metadata": {},
     "output_type": "execute_result"
    }
   ],
   "source": [
    "df_pokemon_moves_master.Accuracy.value_counts()"
   ]
  },
  {
   "cell_type": "markdown",
   "metadata": {},
   "source": [
    "## Pokemon battle simulation"
   ]
  },
  {
   "cell_type": "markdown",
   "metadata": {},
   "source": [
    "### Helper fns"
   ]
  },
  {
   "cell_type": "code",
   "execution_count": null,
   "metadata": {},
   "outputs": [],
   "source": [
    "# # Function to calculate damage based on move and stats\n",
    "# def calculate_damage(attacker_stats, defender_stats, move_stats):\n",
    "#     \"\"\"Calculates the damage a move inflicts based on simple rules.\"\"\"\n",
    "#     if move_stats['Power'] and not pd.isna(move_stats['Power']):\n",
    "#         power = move_stats['Power']\n",
    "#     else:\n",
    "#         power = 0  # Non-damaging moves\n",
    "    \n",
    "#     # Damage formula (simplified for demonstration purposes)\n",
    "#     attack_stat = attacker_stats['Attack'] if move_stats['Category'] == 'Physical' else attacker_stats['Sp. Atk']\n",
    "#     defense_stat = defender_stats['Defense'] if move_stats['Category'] == 'Physical' else defender_stats['Sp. Def']\n",
    "#     damage = (power * attack_stat / defense_stat) * random.uniform(0.85, 1.0)\n",
    "#     return round(damage)"
   ]
  },
  {
   "cell_type": "code",
   "execution_count": 50,
   "metadata": {},
   "outputs": [],
   "source": [
    "def calculate_damage(attacker_stats, defender_stats, move_power, effectiveness):\n",
    "    if pd.isna(move_power):\n",
    "        print(\"This move does not have defined power and deals no damage.\")\n",
    "        return 0  # No damage if the move has no power\n",
    "    if effectiveness == 0.0:\n",
    "        print(\"Move has no effect!\")\n",
    "        return 0  # No damage if the move is ineffective\n",
    "\n",
    "    attack_stat = attacker_stats['Attack'] if attacker_stats['Attack'] > attacker_stats['Sp. Atk'] else attacker_stats['Sp. Atk']\n",
    "    defense_stat = defender_stats['Defense'] if attacker_stats['Attack'] > attacker_stats['Sp. Atk'] else defender_stats['Sp. Def']\n",
    "\n",
    "    # Pokémon damage formula\n",
    "    damage = ((2 * 50 / 5 + 2) * move_power * attack_stat / defense_stat / 50 + 2) * effectiveness\n",
    "\n",
    "    # Remove the minimum 1 damage restriction.\n",
    "    return max(1, int(damage))  # Minimum of 1 damage"
   ]
  },
  {
   "cell_type": "code",
   "execution_count": 51,
   "metadata": {},
   "outputs": [],
   "source": [
    "# Function to simulate a battle turn\n",
    "def battle_turn(pokemon1, pokemon2, move1, move2, move_stats_df):\n",
    "    # Get stats for moves\n",
    "    move1_stats = move_stats_df.loc[move_stats_df[\"Move Name\"] == move1].iloc[0]\n",
    "    move2_stats = move_stats_df.loc[move_stats_df[\"Move Name\"] == move2].iloc[0]\n",
    "\n",
    "    # Pokémon 1 attacks\n",
    "    damage_to_pokemon2 = calculate_damage(pokemon1, pokemon2, move1, move1_stats)\n",
    "    pokemon2[\"HP\"] -= damage_to_pokemon2\n",
    "\n",
    "    # Check if Pokémon 2 fainted\n",
    "    if pokemon2[\"HP\"] <= 0:\n",
    "        return f\"{pokemon2['Name']} fainted! {pokemon1['Name']} wins!\", None\n",
    "\n",
    "    # Pokémon 2 attacks\n",
    "    damage_to_pokemon1 = calculate_damage(pokemon2, pokemon1, move2, move2_stats)\n",
    "    pokemon1[\"HP\"] -= damage_to_pokemon1\n",
    "\n",
    "    # Check if Pokémon 1 fainted\n",
    "    if pokemon1[\"HP\"] <= 0:\n",
    "        return f\"{pokemon1['Name']} fainted! {pokemon2['Name']} wins!\", None\n",
    "\n",
    "    return f\"{pokemon1['Name']} used {move1}! {pokemon2['Name']} used {move2}!\", (pokemon1, pokemon2)\n"
   ]
  },
  {
   "cell_type": "code",
   "execution_count": 52,
   "metadata": {},
   "outputs": [],
   "source": [
    "# Initialize Pokémon stats\n",
    "def get_pokemon_stats(name, stats_df):\n",
    "    row = stats_df.loc[stats_df[\"Name\"] == name].iloc[0]\n",
    "    return {\n",
    "        \"Name\": row[\"Name\"],\n",
    "        \"Type\": row[\"Type\"],\n",
    "        \"HP\": row[\"HP\"],\n",
    "        \"Attack\": row[\"Attack\"],\n",
    "        \"Defense\": row[\"Defense\"],\n",
    "        \"Sp. Atk\": row[\"Sp. Atk\"],\n",
    "        \"Sp. Def\": row[\"Sp. Def\"],\n",
    "        \"Speed\": row[\"Speed\"],\n",
    "    }"
   ]
  },
  {
   "cell_type": "code",
   "execution_count": 53,
   "metadata": {},
   "outputs": [],
   "source": [
    "# # Main battle function - orig with no explicit output of each turn\n",
    "# def pokemon_battle(pokemon1_name, pokemon2_name, pokemon_moves, stats_df, move_stats_df):\n",
    "#     pokemon1 = get_pokemon_stats(pokemon1_name, stats_df)\n",
    "#     pokemon2 = get_pokemon_stats(pokemon2_name, stats_df)\n",
    "\n",
    "#     print(f\"Battle Start: {pokemon1['Name']} vs {pokemon2['Name']}!\")\n",
    "\n",
    "#     while pokemon1[\"HP\"] > 0 and pokemon2[\"HP\"] > 0:\n",
    "#         move1 = random.choice(pokemon_moves[pokemon1[\"Name\"]])\n",
    "#         move2 = random.choice(pokemon_moves[pokemon2[\"Name\"]])\n",
    "#         message, result = battle_turn(pokemon1, pokemon2, move1, move2, move_stats_df)\n",
    "#         print(message)\n",
    "\n",
    "#         if result is None:  # A Pokémon fainted\n",
    "#             break\n",
    "#         pokemon1, pokemon2 = result"
   ]
  },
  {
   "cell_type": "code",
   "execution_count": 54,
   "metadata": {},
   "outputs": [],
   "source": [
    "## This does not use type effectiveness\n",
    "# def pokemon_battle(pokemon1, pokemon2, pokemon_moves, df_stats, df_moves):\n",
    "#     # Extract Pokémon stats\n",
    "#     stats_p1 = df_stats[df_stats['Name'] == pokemon1].iloc[0]\n",
    "#     stats_p2 = df_stats[df_stats['Name'] == pokemon2].iloc[0]\n",
    "    \n",
    "#     # Initial HP\n",
    "#     hp_p1 = stats_p1['HP']\n",
    "#     hp_p2 = stats_p2['HP']\n",
    "    \n",
    "#     # Extract moves\n",
    "#     moves_p1 = pokemon_moves[pokemon1]\n",
    "#     moves_p2 = pokemon_moves[pokemon2]\n",
    "    \n",
    "#     # Determine turn order based on Speed\n",
    "#     if stats_p1['Speed'] > stats_p2['Speed']:\n",
    "#         first_attacker = pokemon1\n",
    "#         second_attacker = pokemon2\n",
    "#     elif stats_p1['Speed'] < stats_p2['Speed']:\n",
    "#         first_attacker = pokemon2\n",
    "#         second_attacker = pokemon1\n",
    "#     else:  # If Speed is tied, choose randomly\n",
    "#         first_attacker, second_attacker = random.sample([pokemon1, pokemon2], 2)\n",
    "    \n",
    "#     print(f\"Battle Start! {pokemon1} vs {pokemon2}\\n\")\n",
    "#     print(f\"{pokemon1} HP: {hp_p1} | {pokemon2} HP: {hp_p2}\\n\")\n",
    "#     print(f\"{first_attacker} attacks first based on Speed!\\n\")\n",
    "    \n",
    "#     # Turn-based battle\n",
    "#     turn = 1\n",
    "#     while hp_p1 > 0 and hp_p2 > 0:\n",
    "#         print(f\"--- Turn {turn} ---\")\n",
    "        \n",
    "#         # Define attacker/defender for this turn\n",
    "#         if first_attacker == pokemon1:\n",
    "#             attacker, defender = pokemon1, pokemon2\n",
    "#             attacker_stats, defender_stats = stats_p1, stats_p2\n",
    "#             attacker_moves = moves_p1\n",
    "#         else:\n",
    "#             attacker, defender = pokemon2, pokemon1\n",
    "#             attacker_stats, defender_stats = stats_p2, stats_p1\n",
    "#             attacker_moves = moves_p2\n",
    "        \n",
    "#         # Attacker uses a random move\n",
    "#         move = random.choice(attacker_moves)\n",
    "#         move_stats = df_moves[df_moves['Move Name'] == move].iloc[0]\n",
    "        \n",
    "#         # Check if the move hits\n",
    "#         accuracy = move_stats['Accuracy'] if not pd.isna(move_stats['Accuracy']) else 100\n",
    "#         if random.uniform(0, 100) <= accuracy:\n",
    "#             damage = calculate_damage(attacker_stats, defender_stats, move_stats)\n",
    "#             if defender == pokemon1:\n",
    "#                 hp_p1 -= damage\n",
    "#                 hp_p1 = max(hp_p1, 0)\n",
    "#                 print(f\"{attacker} used {move} and caused {damage} damage!\")\n",
    "#                 print(f\"{defender}'s HP is now {hp_p1}\\n\")\n",
    "#                 if hp_p1 == 0:\n",
    "#                     print(f\"{defender} fainted! {attacker} wins!\")\n",
    "#                     break\n",
    "#             else:\n",
    "#                 hp_p2 -= damage\n",
    "#                 hp_p2 = max(hp_p2, 0)\n",
    "#                 print(f\"{attacker} used {move} and caused {damage} damage!\")\n",
    "#                 print(f\"{defender}'s HP is now {hp_p2}\\n\")\n",
    "#                 if hp_p2 == 0:\n",
    "#                     print(f\"{defender} fainted! {attacker} wins!\")\n",
    "#                     break\n",
    "#         else:\n",
    "#             print(f\"{attacker} used {move} but it missed!\\n\")\n",
    "        \n",
    "#         # Switch turn\n",
    "#         first_attacker, second_attacker = second_attacker, first_attacker\n",
    "#         turn += 1"
   ]
  },
  {
   "cell_type": "code",
   "execution_count": 55,
   "metadata": {},
   "outputs": [],
   "source": [
    "def get_effectiveness(move_type, target_types, type_effectiveness):\n",
    "    \"\"\"\n",
    "    Calculate the type effectiveness multiplier.\n",
    "    move_type: Type of the move (e.g., 'Fire').\n",
    "    target_types: List of the target's types (e.g., ['Grass', 'Poison']).\n",
    "    type_effectiveness: Dictionary defining type interactions.\n",
    "    \"\"\"\n",
    "    multiplier = 1.0\n",
    "    for t in target_types:\n",
    "        multiplier *= type_effectiveness.get(move_type, {}).get(t, 1.0)\n",
    "    return multiplier"
   ]
  },
  {
   "cell_type": "code",
   "execution_count": 2,
   "metadata": {},
   "outputs": [],
   "source": [
    "type_effectiveness = {\n",
    "    'Normal':     {'Rock': 0.5, 'Ghost': 0.0, 'Steel': 0.5},\n",
    "    'Fire':       {'Fire': 0.5, 'Water': 0.5, 'Grass': 2.0, 'Ice': 2.0, 'Bug': 2.0, 'Rock': 0.5, 'Dragon': 0.5, 'Steel': 2.0},\n",
    "    'Water':      {'Fire': 2.0, 'Water': 0.5, 'Grass': 0.5, 'Ground': 2.0, 'Rock': 2.0, 'Dragon': 0.5},\n",
    "    'Electric':   {'Water': 2.0, 'Electric': 0.5, 'Grass': 0.5, 'Ground': 0.0, 'Flying': 2.0, 'Dragon': 0.5},\n",
    "    'Grass':      {'Fire': 0.5, 'Water': 2.0, 'Grass': 0.5, 'Poison': 0.5, 'Ground': 2.0, 'Flying': 0.5, 'Bug': 0.5, 'Rock': 2.0, 'Dragon': 0.5, 'Steel': 0.5},\n",
    "    'Ice':        {'Fire': 0.5, 'Water': 0.5, 'Grass': 2.0, 'Ice': 0.5, 'Ground': 2.0, 'Flying': 2.0, 'Dragon': 2.0, 'Steel': 0.5},\n",
    "    'Fighting':   {'Normal': 2.0, 'Ice': 2.0, 'Rock': 2.0, 'Dark': 2.0, 'Steel': 2.0, 'Poison': 0.5, 'Flying': 0.5, 'Psychic': 0.5, 'Bug': 0.5, 'Ghost': 0.0, 'Fairy': 0.5},\n",
    "    'Poison':     {'Grass': 2.0, 'Poison': 0.5, 'Ground': 0.5, 'Rock': 0.5, 'Ghost': 0.5, 'Steel': 0.0, 'Fairy': 2.0},\n",
    "    'Ground':     {'Fire': 2.0, 'Electric': 2.0, 'Grass': 0.5, 'Poison': 2.0, 'Flying': 0.0, 'Bug': 0.5, 'Rock': 2.0, 'Steel': 2.0},\n",
    "    'Flying':     {'Electric': 0.5, 'Grass': 2.0, 'Fighting': 2.0, 'Bug': 2.0, 'Rock': 0.5, 'Steel': 0.5},\n",
    "    'Psychic':    {'Fighting': 2.0, 'Poison': 2.0, 'Psychic': 0.5, 'Dark': 0.0, 'Steel': 0.5},\n",
    "    'Bug':        {'Fire': 0.5, 'Grass': 2.0, 'Fighting': 0.5, 'Poison': 0.5, 'Flying': 0.5, 'Psychic': 2.0, 'Ghost': 0.5, 'Dark': 2.0, 'Steel': 0.5, 'Fairy': 0.5},\n",
    "    'Rock':       {'Fire': 2.0, 'Ice': 2.0, 'Fighting': 0.5, 'Ground': 0.5, 'Flying': 2.0, 'Bug': 2.0, 'Steel': 0.5},\n",
    "    'Ghost':      {'Normal': 0.0, 'Psychic': 2.0, 'Ghost': 2.0, 'Dark': 0.5},\n",
    "    'Dragon':     {'Dragon': 2.0, 'Steel': 0.5, 'Fairy': 0.0},\n",
    "    'Dark':       {'Fighting': 0.5, 'Psychic': 2.0, 'Ghost': 2.0, 'Dark': 0.5, 'Fairy': 0.5},\n",
    "    'Steel':      {'Fire': 0.5, 'Water': 0.5, 'Electric': 0.5, 'Ice': 2.0, 'Rock': 2.0, 'Steel': 0.5, 'Fairy': 2.0},\n",
    "    'Fairy':      {'Fire': 0.5, 'Fighting': 2.0, 'Poison': 0.5, 'Dragon': 2.0, 'Dark': 2.0, 'Steel': 0.5}\n",
    "}"
   ]
  },
  {
   "cell_type": "code",
   "execution_count": null,
   "metadata": {},
   "outputs": [],
   "source": [
    "def pokemon_battle_with_effectiveness(pokemon_1, pokemon_2, pokemon_moves, df_pokemon_main_stats, df_pokemon_moves_master, type_effectiveness):\n",
    "    import random\n",
    "\n",
    "    # Fetch Pokémon stats\n",
    "    stats_1 = df_pokemon_main_stats[df_pokemon_main_stats['Name'] == pokemon_1].iloc[0]\n",
    "    stats_2 = df_pokemon_main_stats[df_pokemon_main_stats['Name'] == pokemon_2].iloc[0]\n",
    "\n",
    "    # Initialize HP\n",
    "    hp_1 = stats_1['HP']\n",
    "    hp_2 = stats_2['HP']\n",
    "\n",
    "    # Start of the battle\n",
    "    print(f\"Battle Start: {pokemon_1} vs {pokemon_2}!\")\n",
    "    while hp_1 > 0 and hp_2 > 0:\n",
    "        # Decide turn order\n",
    "        if stats_1['Speed'] > stats_2['Speed']:\n",
    "            attacker, defender = pokemon_1, pokemon_2\n",
    "            attacker_moves = pokemon_moves[pokemon_1]\n",
    "            defender_stats = stats_2\n",
    "            defender_hp = hp_2\n",
    "        else:\n",
    "            attacker, defender = pokemon_2, pokemon_1\n",
    "            attacker_moves = pokemon_moves[pokemon_2]\n",
    "            defender_stats = stats_1\n",
    "            defender_hp = hp_1\n",
    "\n",
    "        # Select random move\n",
    "        move = random.choice(attacker_moves)\n",
    "        move_stats = df_pokemon_moves_master[df_pokemon_moves_master['Move Name'] == move].iloc[0]\n",
    "        move_power = move_stats['Power']\n",
    "        move_accuracy = move_stats['Accuracy']\n",
    "        move_type = move_stats['Type']\n",
    "\n",
    "        # Check if move has power\n",
    "        if pd.isna(move_power):\n",
    "            print(f\"{attacker} used {move}, but it has no offensive power!\")\n",
    "        else:\n",
    "            # Check if move hits\n",
    "            if random.uniform(0, 100) <= move_accuracy:\n",
    "                # Calculate effectiveness\n",
    "                effectiveness = get_effectiveness(move_type, eval(defender_stats['Type']), type_effectiveness)\n",
    "                damage = move_power * effectiveness\n",
    "\n",
    "                # Apply damage\n",
    "                defender_hp -= damage\n",
    "                defender_hp = max(defender_hp, 0)  # Prevent negative HP\n",
    "\n",
    "                # Print turn summary\n",
    "                print(f\"{attacker} used {move}! It's {effectiveness:.2f}x effective!\")\n",
    "                print(f\"{defender} takes {damage:.2f} damage and is left with {defender_hp:.2f} HP.\")\n",
    "            else:\n",
    "                print(f\"{attacker} used {move}, but it missed!\")\n",
    "\n",
    "        # Update HP\n",
    "        if attacker == pokemon_1:\n",
    "            hp_2 = defender_hp\n",
    "        else:\n",
    "            hp_1 = defender_hp\n",
    "\n",
    "    # Determine winner\n",
    "    if hp_1 > 0:\n",
    "        print(f\"{pokemon_1} wins!\")\n",
    "    else:\n",
    "        print(f\"{pokemon_2} wins!\")"
   ]
  },
  {
   "cell_type": "markdown",
   "metadata": {},
   "source": [
    "### Battle"
   ]
  },
  {
   "cell_type": "code",
   "execution_count": 59,
   "metadata": {},
   "outputs": [
    {
     "name": "stdout",
     "output_type": "stream",
     "text": [
      "Castform Litwick\n"
     ]
    }
   ],
   "source": [
    "first_pokemon = next(iter(battle_pokemon))\n",
    "second_pokemon = list(battle_pokemon.keys())[1]\n",
    "print(first_pokemon, second_pokemon)"
   ]
  },
  {
   "cell_type": "code",
   "execution_count": 60,
   "metadata": {},
   "outputs": [
    {
     "name": "stdout",
     "output_type": "stream",
     "text": [
      "Battle Start: Castform vs Litwick!\n"
     ]
    },
    {
     "ename": "ValueError",
     "evalue": "not enough values to unpack (expected 3, got 2)",
     "output_type": "error",
     "traceback": [
      "\u001b[1;31m---------------------------------------------------------------------------\u001b[0m",
      "\u001b[1;31mValueError\u001b[0m                                Traceback (most recent call last)",
      "Input \u001b[1;32mIn [60]\u001b[0m, in \u001b[0;36m<cell line: 1>\u001b[1;34m()\u001b[0m\n\u001b[1;32m----> 1\u001b[0m \u001b[43mpokemon_battle_with_effectiveness\u001b[49m\u001b[43m(\u001b[49m\u001b[43mfirst_pokemon\u001b[49m\u001b[43m,\u001b[49m\u001b[43m \u001b[49m\u001b[43msecond_pokemon\u001b[49m\u001b[43m,\u001b[49m\u001b[43m \u001b[49m\u001b[43mbattle_pokemon\u001b[49m\u001b[43m,\u001b[49m\u001b[43m \u001b[49m\u001b[43mdf_pokemon_main_stats\u001b[49m\u001b[43m,\u001b[49m\u001b[43m \u001b[49m\u001b[43mdf_pokemon_moves_master\u001b[49m\u001b[43m,\u001b[49m\u001b[43m \u001b[49m\u001b[43mtype_effectiveness\u001b[49m\u001b[43m)\u001b[49m\n",
      "Input \u001b[1;32mIn [58]\u001b[0m, in \u001b[0;36mpokemon_battle_with_effectiveness\u001b[1;34m(pokemon1, pokemon2, pokemon_moves, df_pokemon_main_stats, df_pokemon_moves_master, type_effectiveness)\u001b[0m\n\u001b[0;32m     22\u001b[0m \u001b[38;5;66;03m# Battle loop\u001b[39;00m\n\u001b[0;32m     23\u001b[0m \u001b[38;5;28;01mwhile\u001b[39;00m hp1 \u001b[38;5;241m>\u001b[39m \u001b[38;5;241m0\u001b[39m \u001b[38;5;129;01mand\u001b[39;00m hp2 \u001b[38;5;241m>\u001b[39m \u001b[38;5;241m0\u001b[39m:\n\u001b[1;32m---> 24\u001b[0m     \u001b[38;5;28;01mfor\u001b[39;00m attacker, defender, attacker_moves \u001b[38;5;129;01min\u001b[39;00m [(faster, slower), (slower, faster)]:\n\u001b[0;32m     25\u001b[0m         attacker_name, attacker_stats, attacker_moves \u001b[38;5;241m=\u001b[39m attacker\n\u001b[0;32m     26\u001b[0m         defender_name, defender_stats, _ \u001b[38;5;241m=\u001b[39m defender\n",
      "\u001b[1;31mValueError\u001b[0m: not enough values to unpack (expected 3, got 2)"
     ]
    }
   ],
   "source": [
    "pokemon_battle_with_effectiveness(first_pokemon, second_pokemon, battle_pokemon, df_pokemon_main_stats, df_pokemon_moves_master, type_effectiveness)"
   ]
  },
  {
   "cell_type": "code",
   "execution_count": 55,
   "metadata": {},
   "outputs": [
    {
     "data": {
      "text/html": [
       "<div>\n",
       "<style scoped>\n",
       "    .dataframe tbody tr th:only-of-type {\n",
       "        vertical-align: middle;\n",
       "    }\n",
       "\n",
       "    .dataframe tbody tr th {\n",
       "        vertical-align: top;\n",
       "    }\n",
       "\n",
       "    .dataframe thead th {\n",
       "        text-align: right;\n",
       "    }\n",
       "</style>\n",
       "<table border=\"1\" class=\"dataframe\">\n",
       "  <thead>\n",
       "    <tr style=\"text-align: right;\">\n",
       "      <th></th>\n",
       "      <th>Move Name</th>\n",
       "      <th>Type</th>\n",
       "      <th>Category</th>\n",
       "      <th>Power</th>\n",
       "      <th>Accuracy</th>\n",
       "      <th>PP</th>\n",
       "      <th>Effect</th>\n",
       "      <th>Probability (%)</th>\n",
       "    </tr>\n",
       "  </thead>\n",
       "  <tbody>\n",
       "    <tr>\n",
       "      <th>296</th>\n",
       "      <td>Future Sight</td>\n",
       "      <td>Psychic</td>\n",
       "      <td>Special</td>\n",
       "      <td>120.0</td>\n",
       "      <td>100.0</td>\n",
       "      <td>10.0</td>\n",
       "      <td>Damage occurs 2 turns later.</td>\n",
       "      <td>NaN</td>\n",
       "    </tr>\n",
       "  </tbody>\n",
       "</table>\n",
       "</div>"
      ],
      "text/plain": [
       "        Move Name     Type Category  Power  Accuracy    PP  \\\n",
       "296  Future Sight  Psychic  Special  120.0     100.0  10.0   \n",
       "\n",
       "                           Effect  Probability (%)  \n",
       "296  Damage occurs 2 turns later.              NaN  "
      ]
     },
     "execution_count": 55,
     "metadata": {},
     "output_type": "execute_result"
    }
   ],
   "source": [
    "df_pokemon_moves_master[df_pokemon_moves_master['Move Name'] == 'Future Sight']"
   ]
  },
  {
   "cell_type": "code",
   "execution_count": 36,
   "metadata": {},
   "outputs": [
    {
     "data": {
      "text/html": [
       "<div>\n",
       "<style scoped>\n",
       "    .dataframe tbody tr th:only-of-type {\n",
       "        vertical-align: middle;\n",
       "    }\n",
       "\n",
       "    .dataframe tbody tr th {\n",
       "        vertical-align: top;\n",
       "    }\n",
       "\n",
       "    .dataframe thead th {\n",
       "        text-align: right;\n",
       "    }\n",
       "</style>\n",
       "<table border=\"1\" class=\"dataframe\">\n",
       "  <thead>\n",
       "    <tr style=\"text-align: right;\">\n",
       "      <th></th>\n",
       "      <th>Move Name</th>\n",
       "      <th>Type</th>\n",
       "      <th>Category</th>\n",
       "      <th>Power</th>\n",
       "      <th>Accuracy</th>\n",
       "      <th>PP</th>\n",
       "      <th>Effect</th>\n",
       "      <th>Probability (%)</th>\n",
       "    </tr>\n",
       "  </thead>\n",
       "  <tbody>\n",
       "    <tr>\n",
       "      <th>657</th>\n",
       "      <td>Return</td>\n",
       "      <td>Normal</td>\n",
       "      <td>Physical</td>\n",
       "      <td>NaN</td>\n",
       "      <td>100.0</td>\n",
       "      <td>20.0</td>\n",
       "      <td>Power increases with higher Friendship.</td>\n",
       "      <td>NaN</td>\n",
       "    </tr>\n",
       "  </tbody>\n",
       "</table>\n",
       "</div>"
      ],
      "text/plain": [
       "    Move Name    Type  Category  Power  Accuracy    PP  \\\n",
       "657    Return  Normal  Physical    NaN     100.0  20.0   \n",
       "\n",
       "                                      Effect  Probability (%)  \n",
       "657  Power increases with higher Friendship.              NaN  "
      ]
     },
     "execution_count": 36,
     "metadata": {},
     "output_type": "execute_result"
    }
   ],
   "source": [
    "df_pokemon_moves_master[df_pokemon_moves_master['Move Name'] == 'Return']"
   ]
  },
  {
   "cell_type": "code",
   "execution_count": 56,
   "metadata": {},
   "outputs": [
    {
     "data": {
      "text/html": [
       "<div>\n",
       "<style scoped>\n",
       "    .dataframe tbody tr th:only-of-type {\n",
       "        vertical-align: middle;\n",
       "    }\n",
       "\n",
       "    .dataframe tbody tr th {\n",
       "        vertical-align: top;\n",
       "    }\n",
       "\n",
       "    .dataframe thead th {\n",
       "        text-align: right;\n",
       "    }\n",
       "</style>\n",
       "<table border=\"1\" class=\"dataframe\">\n",
       "  <thead>\n",
       "    <tr style=\"text-align: right;\">\n",
       "      <th></th>\n",
       "      <th>#</th>\n",
       "      <th>Image URL</th>\n",
       "      <th>Name</th>\n",
       "      <th>Subtitle</th>\n",
       "      <th>Type</th>\n",
       "      <th>Total</th>\n",
       "      <th>HP</th>\n",
       "      <th>Attack</th>\n",
       "      <th>Defense</th>\n",
       "      <th>Sp. Atk</th>\n",
       "      <th>Sp. Def</th>\n",
       "      <th>Speed</th>\n",
       "    </tr>\n",
       "  </thead>\n",
       "  <tbody>\n",
       "    <tr>\n",
       "      <th>460</th>\n",
       "      <td>375</td>\n",
       "      <td>https://img.pokemondb.net/sprites/scarlet-viol...</td>\n",
       "      <td>Metang</td>\n",
       "      <td>NaN</td>\n",
       "      <td>['Steel', 'Psychic']</td>\n",
       "      <td>420</td>\n",
       "      <td>60</td>\n",
       "      <td>75</td>\n",
       "      <td>100</td>\n",
       "      <td>55</td>\n",
       "      <td>80</td>\n",
       "      <td>50</td>\n",
       "    </tr>\n",
       "  </tbody>\n",
       "</table>\n",
       "</div>"
      ],
      "text/plain": [
       "       #                                          Image URL    Name Subtitle  \\\n",
       "460  375  https://img.pokemondb.net/sprites/scarlet-viol...  Metang      NaN   \n",
       "\n",
       "                     Type  Total  HP  Attack  Defense  Sp. Atk  Sp. Def  Speed  \n",
       "460  ['Steel', 'Psychic']    420  60      75      100       55       80     50  "
      ]
     },
     "execution_count": 56,
     "metadata": {},
     "output_type": "execute_result"
    }
   ],
   "source": [
    "df_pokemon_main_stats[df_pokemon_main_stats['Name'] == 'Metang']"
   ]
  },
  {
   "cell_type": "code",
   "execution_count": 57,
   "metadata": {},
   "outputs": [
    {
     "data": {
      "text/html": [
       "<div>\n",
       "<style scoped>\n",
       "    .dataframe tbody tr th:only-of-type {\n",
       "        vertical-align: middle;\n",
       "    }\n",
       "\n",
       "    .dataframe tbody tr th {\n",
       "        vertical-align: top;\n",
       "    }\n",
       "\n",
       "    .dataframe thead th {\n",
       "        text-align: right;\n",
       "    }\n",
       "</style>\n",
       "<table border=\"1\" class=\"dataframe\">\n",
       "  <thead>\n",
       "    <tr style=\"text-align: right;\">\n",
       "      <th></th>\n",
       "      <th>#</th>\n",
       "      <th>Image URL</th>\n",
       "      <th>Name</th>\n",
       "      <th>Subtitle</th>\n",
       "      <th>Type</th>\n",
       "      <th>Total</th>\n",
       "      <th>HP</th>\n",
       "      <th>Attack</th>\n",
       "      <th>Defense</th>\n",
       "      <th>Sp. Atk</th>\n",
       "      <th>Sp. Def</th>\n",
       "      <th>Speed</th>\n",
       "    </tr>\n",
       "  </thead>\n",
       "  <tbody>\n",
       "    <tr>\n",
       "      <th>52</th>\n",
       "      <td>39</td>\n",
       "      <td>https://img.pokemondb.net/sprites/scarlet-viol...</td>\n",
       "      <td>Jigglypuff</td>\n",
       "      <td>NaN</td>\n",
       "      <td>['Normal', 'Fairy']</td>\n",
       "      <td>270</td>\n",
       "      <td>115</td>\n",
       "      <td>45</td>\n",
       "      <td>20</td>\n",
       "      <td>45</td>\n",
       "      <td>25</td>\n",
       "      <td>20</td>\n",
       "    </tr>\n",
       "  </tbody>\n",
       "</table>\n",
       "</div>"
      ],
      "text/plain": [
       "     #                                          Image URL        Name  \\\n",
       "52  39  https://img.pokemondb.net/sprites/scarlet-viol...  Jigglypuff   \n",
       "\n",
       "   Subtitle                 Type  Total   HP  Attack  Defense  Sp. Atk  \\\n",
       "52      NaN  ['Normal', 'Fairy']    270  115      45       20       45   \n",
       "\n",
       "    Sp. Def  Speed  \n",
       "52       25     20  "
      ]
     },
     "execution_count": 57,
     "metadata": {},
     "output_type": "execute_result"
    }
   ],
   "source": [
    "df_pokemon_main_stats[df_pokemon_main_stats['Name'] == 'Jigglypuff']"
   ]
  },
  {
   "cell_type": "code",
   "execution_count": 19,
   "metadata": {},
   "outputs": [
    {
     "data": {
      "text/html": [
       "<div>\n",
       "<style scoped>\n",
       "    .dataframe tbody tr th:only-of-type {\n",
       "        vertical-align: middle;\n",
       "    }\n",
       "\n",
       "    .dataframe tbody tr th {\n",
       "        vertical-align: top;\n",
       "    }\n",
       "\n",
       "    .dataframe thead th {\n",
       "        text-align: right;\n",
       "    }\n",
       "</style>\n",
       "<table border=\"1\" class=\"dataframe\">\n",
       "  <thead>\n",
       "    <tr style=\"text-align: right;\">\n",
       "      <th></th>\n",
       "      <th>#</th>\n",
       "      <th>Image URL</th>\n",
       "      <th>Name</th>\n",
       "      <th>Subtitle</th>\n",
       "      <th>Type</th>\n",
       "      <th>Total</th>\n",
       "      <th>HP</th>\n",
       "      <th>Attack</th>\n",
       "      <th>Defense</th>\n",
       "      <th>Sp. Atk</th>\n",
       "      <th>Sp. Def</th>\n",
       "      <th>Speed</th>\n",
       "    </tr>\n",
       "  </thead>\n",
       "  <tbody>\n",
       "    <tr>\n",
       "      <th>429</th>\n",
       "      <td>351</td>\n",
       "      <td>https://img.pokemondb.net/sprites/scarlet-viol...</td>\n",
       "      <td>Castform</td>\n",
       "      <td>NaN</td>\n",
       "      <td>['Normal']</td>\n",
       "      <td>420</td>\n",
       "      <td>70</td>\n",
       "      <td>70</td>\n",
       "      <td>70</td>\n",
       "      <td>70</td>\n",
       "      <td>70</td>\n",
       "      <td>70</td>\n",
       "    </tr>\n",
       "    <tr>\n",
       "      <th>430</th>\n",
       "      <td>351</td>\n",
       "      <td>https://img.pokemondb.net/sprites/scarlet-viol...</td>\n",
       "      <td>Castform</td>\n",
       "      <td>Sunny Form</td>\n",
       "      <td>['Fire']</td>\n",
       "      <td>420</td>\n",
       "      <td>70</td>\n",
       "      <td>70</td>\n",
       "      <td>70</td>\n",
       "      <td>70</td>\n",
       "      <td>70</td>\n",
       "      <td>70</td>\n",
       "    </tr>\n",
       "    <tr>\n",
       "      <th>431</th>\n",
       "      <td>351</td>\n",
       "      <td>https://img.pokemondb.net/sprites/scarlet-viol...</td>\n",
       "      <td>Castform</td>\n",
       "      <td>Rainy Form</td>\n",
       "      <td>['Water']</td>\n",
       "      <td>420</td>\n",
       "      <td>70</td>\n",
       "      <td>70</td>\n",
       "      <td>70</td>\n",
       "      <td>70</td>\n",
       "      <td>70</td>\n",
       "      <td>70</td>\n",
       "    </tr>\n",
       "    <tr>\n",
       "      <th>432</th>\n",
       "      <td>351</td>\n",
       "      <td>https://img.pokemondb.net/sprites/scarlet-viol...</td>\n",
       "      <td>Castform</td>\n",
       "      <td>Snowy Form</td>\n",
       "      <td>['Ice']</td>\n",
       "      <td>420</td>\n",
       "      <td>70</td>\n",
       "      <td>70</td>\n",
       "      <td>70</td>\n",
       "      <td>70</td>\n",
       "      <td>70</td>\n",
       "      <td>70</td>\n",
       "    </tr>\n",
       "  </tbody>\n",
       "</table>\n",
       "</div>"
      ],
      "text/plain": [
       "       #                                          Image URL      Name  \\\n",
       "429  351  https://img.pokemondb.net/sprites/scarlet-viol...  Castform   \n",
       "430  351  https://img.pokemondb.net/sprites/scarlet-viol...  Castform   \n",
       "431  351  https://img.pokemondb.net/sprites/scarlet-viol...  Castform   \n",
       "432  351  https://img.pokemondb.net/sprites/scarlet-viol...  Castform   \n",
       "\n",
       "       Subtitle        Type  Total  HP  Attack  Defense  Sp. Atk  Sp. Def  \\\n",
       "429         NaN  ['Normal']    420  70      70       70       70       70   \n",
       "430  Sunny Form    ['Fire']    420  70      70       70       70       70   \n",
       "431  Rainy Form   ['Water']    420  70      70       70       70       70   \n",
       "432  Snowy Form     ['Ice']    420  70      70       70       70       70   \n",
       "\n",
       "     Speed  \n",
       "429     70  \n",
       "430     70  \n",
       "431     70  \n",
       "432     70  "
      ]
     },
     "execution_count": 19,
     "metadata": {},
     "output_type": "execute_result"
    }
   ],
   "source": [
    "df_pokemon_main_stats[df_pokemon_main_stats['Name'] == 'Castform']"
   ]
  },
  {
   "cell_type": "code",
   "execution_count": 21,
   "metadata": {},
   "outputs": [
    {
     "data": {
      "text/html": [
       "<div>\n",
       "<style scoped>\n",
       "    .dataframe tbody tr th:only-of-type {\n",
       "        vertical-align: middle;\n",
       "    }\n",
       "\n",
       "    .dataframe tbody tr th {\n",
       "        vertical-align: top;\n",
       "    }\n",
       "\n",
       "    .dataframe thead th {\n",
       "        text-align: right;\n",
       "    }\n",
       "</style>\n",
       "<table border=\"1\" class=\"dataframe\">\n",
       "  <thead>\n",
       "    <tr style=\"text-align: right;\">\n",
       "      <th></th>\n",
       "      <th>#</th>\n",
       "      <th>Image URL</th>\n",
       "      <th>Name</th>\n",
       "      <th>Subtitle</th>\n",
       "      <th>Type</th>\n",
       "      <th>Total</th>\n",
       "      <th>HP</th>\n",
       "      <th>Attack</th>\n",
       "      <th>Defense</th>\n",
       "      <th>Sp. Atk</th>\n",
       "      <th>Sp. Def</th>\n",
       "      <th>Speed</th>\n",
       "    </tr>\n",
       "  </thead>\n",
       "  <tbody>\n",
       "    <tr>\n",
       "      <th>731</th>\n",
       "      <td>607</td>\n",
       "      <td>https://img.pokemondb.net/sprites/scarlet-viol...</td>\n",
       "      <td>Litwick</td>\n",
       "      <td>NaN</td>\n",
       "      <td>['Ghost', 'Fire']</td>\n",
       "      <td>275</td>\n",
       "      <td>50</td>\n",
       "      <td>30</td>\n",
       "      <td>55</td>\n",
       "      <td>65</td>\n",
       "      <td>55</td>\n",
       "      <td>20</td>\n",
       "    </tr>\n",
       "  </tbody>\n",
       "</table>\n",
       "</div>"
      ],
      "text/plain": [
       "       #                                          Image URL     Name Subtitle  \\\n",
       "731  607  https://img.pokemondb.net/sprites/scarlet-viol...  Litwick      NaN   \n",
       "\n",
       "                  Type  Total  HP  Attack  Defense  Sp. Atk  Sp. Def  Speed  \n",
       "731  ['Ghost', 'Fire']    275  50      30       55       65       55     20  "
      ]
     },
     "execution_count": 21,
     "metadata": {},
     "output_type": "execute_result"
    }
   ],
   "source": [
    "df_pokemon_main_stats[df_pokemon_main_stats['Name'] == 'Litwick']"
   ]
  },
  {
   "cell_type": "code",
   "execution_count": null,
   "metadata": {},
   "outputs": [],
   "source": [
    "# Incorporate super effective, not very effective, etc.\n",
    "# incorporate things like Future Sight not hitting for two turns"
   ]
  },
  {
   "cell_type": "code",
   "execution_count": 3,
   "metadata": {},
   "outputs": [],
   "source": [
    "# Define the relative path to the data folder\n",
    "raw_relative_path = os.path.join(\"..\", \"data\", \"type_effectiveness.json\")"
   ]
  },
  {
   "cell_type": "code",
   "execution_count": 4,
   "metadata": {},
   "outputs": [],
   "source": [
    "# Save to a file\n",
    "with open(raw_relative_path, 'w') as f:\n",
    "    json.dump(type_effectiveness, f, indent=4)"
   ]
  },
  {
   "cell_type": "code",
   "execution_count": null,
   "metadata": {},
   "outputs": [],
   "source": []
  }
 ],
 "metadata": {
  "kernelspec": {
   "display_name": "Python 3",
   "language": "python",
   "name": "python3"
  },
  "language_info": {
   "codemirror_mode": {
    "name": "ipython",
    "version": 3
   },
   "file_extension": ".py",
   "mimetype": "text/x-python",
   "name": "python",
   "nbconvert_exporter": "python",
   "pygments_lexer": "ipython3",
   "version": "3.10.6"
  }
 },
 "nbformat": 4,
 "nbformat_minor": 2
}
