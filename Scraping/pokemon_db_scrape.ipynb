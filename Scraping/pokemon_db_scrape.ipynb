{
 "cells": [
  {
   "cell_type": "markdown",
   "metadata": {},
   "source": [
    "# Config"
   ]
  },
  {
   "cell_type": "markdown",
   "metadata": {},
   "source": [
    "## Selenium + BS4"
   ]
  },
  {
   "cell_type": "code",
   "execution_count": 18,
   "metadata": {},
   "outputs": [],
   "source": [
    "import os\n",
    "from selenium import webdriver\n",
    "from selenium.webdriver.common.by import By\n",
    "from selenium.webdriver.chrome.service import Service\n",
    "from selenium.webdriver.support.ui import WebDriverWait\n",
    "from selenium.webdriver.support import expected_conditions as EC\n",
    "from selenium.common.exceptions import TimeoutException\n",
    "from bs4 import BeautifulSoup\n",
    "\n",
    "import pandas as pd\n",
    "\n",
    "import os"
   ]
  },
  {
   "cell_type": "code",
   "execution_count": 2,
   "metadata": {},
   "outputs": [],
   "source": [
    "# Get the ChromeDriver path from your environment variable\n",
    "chrome_driver_path = os.getenv('chrome_driver_path')\n",
    "\n",
    "# Setup WebDriver\n",
    "service = Service(chrome_driver_path)  # Use the path from environment variable"
   ]
  },
  {
   "cell_type": "markdown",
   "metadata": {},
   "source": [
    "## Scrape the main page"
   ]
  },
  {
   "cell_type": "code",
   "execution_count": 3,
   "metadata": {},
   "outputs": [],
   "source": [
    "all_pokedex_url = \"https://pokemondb.net/pokedex/all\""
   ]
  },
  {
   "cell_type": "code",
   "execution_count": 4,
   "metadata": {},
   "outputs": [],
   "source": [
    "try:\n",
    "    driver = webdriver.Chrome(service=service)\n",
    "    driver.get(all_pokedex_url)\n",
    "\n",
    "    soup = BeautifulSoup(driver.page_source, 'html.parser')\n",
    "\n",
    "except TimeoutException:\n",
    "    print(\"Timed out waiting for cookie pop-up or other elements\")\n",
    "    \n",
    "finally:\n",
    "    # Close the browser\n",
    "    driver.quit()"
   ]
  },
  {
   "cell_type": "markdown",
   "metadata": {},
   "source": [
    "## Extract from Soup object"
   ]
  },
  {
   "cell_type": "code",
   "execution_count": 13,
   "metadata": {},
   "outputs": [],
   "source": [
    "# Find the table body containing all Pokémon rows\n",
    "table_body = soup.find('tbody')\n",
    "rows = table_body.find_all('tr')  # Each row corresponds to one Pokémon\n",
    "\n",
    "# List to store the extracted data\n",
    "pokemon_data = []\n",
    "\n",
    "# Iterate through each row\n",
    "for row in rows:\n",
    "    # Extract the columns\n",
    "    cols = row.find_all('td')\n",
    "    \n",
    "    # Extract individual data points\n",
    "    number = cols[0].find('span', class_='infocard-cell-data').text.strip()\n",
    "    image_url = cols[0].find('img')['src']\n",
    "    name = cols[1].find('a', class_='ent-name').text.strip()\n",
    "\n",
    "    # Check for subtitle\n",
    "    subtitle_tag = cols[1].find('small', class_='text-muted')\n",
    "    subtitle = subtitle_tag.text.strip() if subtitle_tag else \"\"  # Extract text if present\n",
    "\n",
    "    types = [t.text for t in cols[2].find_all('a')]  # Multiple types\n",
    "    total = cols[3].text.strip()\n",
    "    hp = cols[4].text.strip()\n",
    "    attack = cols[5].text.strip()\n",
    "    defense = cols[6].text.strip()\n",
    "    sp_atk = cols[7].text.strip()\n",
    "    sp_def = cols[8].text.strip()\n",
    "    speed = cols[9].text.strip()\n",
    "    \n",
    "    # Append the data as a dictionary\n",
    "    pokemon_data.append({\n",
    "        \"#\": number,\n",
    "        \"Image URL\": image_url,\n",
    "        \"Name\": name,\n",
    "        \"Subtitle\": subtitle,\n",
    "        \"Type\": types,\n",
    "        \"Total\": total,\n",
    "        \"HP\": hp,\n",
    "        \"Attack\": attack,\n",
    "        \"Defense\": defense,\n",
    "        \"Sp. Atk\": sp_atk,\n",
    "        \"Sp. Def\": sp_def,\n",
    "        \"Speed\": speed\n",
    "    })"
   ]
  },
  {
   "cell_type": "code",
   "execution_count": null,
   "metadata": {},
   "outputs": [],
   "source": [
    "# Convert to pandas df\n",
    "df = pd.DataFrame(pokemon_data)"
   ]
  },
  {
   "cell_type": "code",
   "execution_count": 20,
   "metadata": {},
   "outputs": [],
   "source": [
    "# Define the relative path to the data folder\n",
    "relative_path = os.path.join(\"data\", \"pokemon_main_stats_data.csv\")"
   ]
  },
  {
   "cell_type": "code",
   "execution_count": 21,
   "metadata": {},
   "outputs": [],
   "source": [
    "# Save the DataFrame to the relative path\n",
    "df.to_csv(relative_path, index=False)"
   ]
  },
  {
   "cell_type": "code",
   "execution_count": null,
   "metadata": {},
   "outputs": [],
   "source": []
  }
 ],
 "metadata": {
  "kernelspec": {
   "display_name": "Python 3",
   "language": "python",
   "name": "python3"
  },
  "language_info": {
   "codemirror_mode": {
    "name": "ipython",
    "version": 3
   },
   "file_extension": ".py",
   "mimetype": "text/x-python",
   "name": "python",
   "nbconvert_exporter": "python",
   "pygments_lexer": "ipython3",
   "version": "3.10.6"
  }
 },
 "nbformat": 4,
 "nbformat_minor": 2
}
